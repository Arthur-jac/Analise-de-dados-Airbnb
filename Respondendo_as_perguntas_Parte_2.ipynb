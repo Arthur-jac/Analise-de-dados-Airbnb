{
 "cells": [
  {
   "cell_type": "markdown",
   "metadata": {
    "id": "gRQgfJZ9HIua"
   },
   "source": [
    "# Parte II - Respondendo as perguntas de negócio\n"
   ]
  },
  {
   "cell_type": "markdown",
   "metadata": {
    "id": "_bllQ8srHNfg"
   },
   "source": [
    "### 1. Qual é o valor do aluguel (diária) mais caro de cada região da base de dados da cidade de Nova York?\n"
   ]
  },
  {
   "cell_type": "code",
   "execution_count": 3,
   "metadata": {},
   "outputs": [
    {
     "name": "stdout",
     "output_type": "stream",
     "text": [
      "Requirement already satisfied: plotly in c:\\users\\arthu\\appdata\\local\\programs\\python\\python310\\lib\\site-packages (5.18.0)\n",
      "Requirement already satisfied: tenacity>=6.2.0 in c:\\users\\arthu\\appdata\\local\\programs\\python\\python310\\lib\\site-packages (from plotly) (8.2.3)\n",
      "Requirement already satisfied: packaging in c:\\users\\arthu\\appdata\\local\\programs\\python\\python310\\lib\\site-packages (from plotly) (23.2)\n",
      "\n",
      "[notice] A new release of pip available: 22.2 -> 23.3.1\n",
      "[notice] To update, run: python.exe -m pip install --upgrade pip\n",
      "Note: you may need to restart the kernel to use updated packages.\n"
     ]
    }
   ],
   "source": [
    "pip install --upgrade plotly"
   ]
  },
  {
   "cell_type": "code",
   "execution_count": 4,
   "metadata": {
    "colab": {
     "base_uri": "https://localhost:8080/",
     "height": 542
    },
    "id": "Xs6TE9hUHD_S",
    "outputId": "9fe2a33f-5b91-4866-cd29-d093ea075600"
   },
   "outputs": [
    {
     "data": {
      "application/vnd.plotly.v1+json": {
       "config": {
        "plotlyServerURL": "https://plot.ly"
       },
       "data": [
        {
         "alignmentgroup": "True",
         "hovertemplate": "neighbourhood_group=%{x}<br>price=%{y}<extra></extra>",
         "legendgroup": "",
         "marker": {
          "color": "#636efa",
          "pattern": {
           "shape": ""
          }
         },
         "name": "",
         "offsetgroup": "",
         "orientation": "v",
         "showlegend": false,
         "textposition": "auto",
         "type": "bar",
         "x": [
          "Bronx",
          "Brooklyn",
          "Manhattan",
          "Queens",
          "Staten Island"
         ],
         "xaxis": "x",
         "y": [
          2500,
          10000,
          10000,
          10000,
          5000
         ],
         "yaxis": "y"
        }
       ],
       "layout": {
        "barmode": "relative",
        "legend": {
         "tracegroupgap": 0
        },
        "margin": {
         "t": 60
        },
        "template": {
         "data": {
          "bar": [
           {
            "error_x": {
             "color": "#2a3f5f"
            },
            "error_y": {
             "color": "#2a3f5f"
            },
            "marker": {
             "line": {
              "color": "#E5ECF6",
              "width": 0.5
             },
             "pattern": {
              "fillmode": "overlay",
              "size": 10,
              "solidity": 0.2
             }
            },
            "type": "bar"
           }
          ],
          "barpolar": [
           {
            "marker": {
             "line": {
              "color": "#E5ECF6",
              "width": 0.5
             },
             "pattern": {
              "fillmode": "overlay",
              "size": 10,
              "solidity": 0.2
             }
            },
            "type": "barpolar"
           }
          ],
          "carpet": [
           {
            "aaxis": {
             "endlinecolor": "#2a3f5f",
             "gridcolor": "white",
             "linecolor": "white",
             "minorgridcolor": "white",
             "startlinecolor": "#2a3f5f"
            },
            "baxis": {
             "endlinecolor": "#2a3f5f",
             "gridcolor": "white",
             "linecolor": "white",
             "minorgridcolor": "white",
             "startlinecolor": "#2a3f5f"
            },
            "type": "carpet"
           }
          ],
          "choropleth": [
           {
            "colorbar": {
             "outlinewidth": 0,
             "ticks": ""
            },
            "type": "choropleth"
           }
          ],
          "contour": [
           {
            "colorbar": {
             "outlinewidth": 0,
             "ticks": ""
            },
            "colorscale": [
             [
              0,
              "#0d0887"
             ],
             [
              0.1111111111111111,
              "#46039f"
             ],
             [
              0.2222222222222222,
              "#7201a8"
             ],
             [
              0.3333333333333333,
              "#9c179e"
             ],
             [
              0.4444444444444444,
              "#bd3786"
             ],
             [
              0.5555555555555556,
              "#d8576b"
             ],
             [
              0.6666666666666666,
              "#ed7953"
             ],
             [
              0.7777777777777778,
              "#fb9f3a"
             ],
             [
              0.8888888888888888,
              "#fdca26"
             ],
             [
              1,
              "#f0f921"
             ]
            ],
            "type": "contour"
           }
          ],
          "contourcarpet": [
           {
            "colorbar": {
             "outlinewidth": 0,
             "ticks": ""
            },
            "type": "contourcarpet"
           }
          ],
          "heatmap": [
           {
            "colorbar": {
             "outlinewidth": 0,
             "ticks": ""
            },
            "colorscale": [
             [
              0,
              "#0d0887"
             ],
             [
              0.1111111111111111,
              "#46039f"
             ],
             [
              0.2222222222222222,
              "#7201a8"
             ],
             [
              0.3333333333333333,
              "#9c179e"
             ],
             [
              0.4444444444444444,
              "#bd3786"
             ],
             [
              0.5555555555555556,
              "#d8576b"
             ],
             [
              0.6666666666666666,
              "#ed7953"
             ],
             [
              0.7777777777777778,
              "#fb9f3a"
             ],
             [
              0.8888888888888888,
              "#fdca26"
             ],
             [
              1,
              "#f0f921"
             ]
            ],
            "type": "heatmap"
           }
          ],
          "heatmapgl": [
           {
            "colorbar": {
             "outlinewidth": 0,
             "ticks": ""
            },
            "colorscale": [
             [
              0,
              "#0d0887"
             ],
             [
              0.1111111111111111,
              "#46039f"
             ],
             [
              0.2222222222222222,
              "#7201a8"
             ],
             [
              0.3333333333333333,
              "#9c179e"
             ],
             [
              0.4444444444444444,
              "#bd3786"
             ],
             [
              0.5555555555555556,
              "#d8576b"
             ],
             [
              0.6666666666666666,
              "#ed7953"
             ],
             [
              0.7777777777777778,
              "#fb9f3a"
             ],
             [
              0.8888888888888888,
              "#fdca26"
             ],
             [
              1,
              "#f0f921"
             ]
            ],
            "type": "heatmapgl"
           }
          ],
          "histogram": [
           {
            "marker": {
             "pattern": {
              "fillmode": "overlay",
              "size": 10,
              "solidity": 0.2
             }
            },
            "type": "histogram"
           }
          ],
          "histogram2d": [
           {
            "colorbar": {
             "outlinewidth": 0,
             "ticks": ""
            },
            "colorscale": [
             [
              0,
              "#0d0887"
             ],
             [
              0.1111111111111111,
              "#46039f"
             ],
             [
              0.2222222222222222,
              "#7201a8"
             ],
             [
              0.3333333333333333,
              "#9c179e"
             ],
             [
              0.4444444444444444,
              "#bd3786"
             ],
             [
              0.5555555555555556,
              "#d8576b"
             ],
             [
              0.6666666666666666,
              "#ed7953"
             ],
             [
              0.7777777777777778,
              "#fb9f3a"
             ],
             [
              0.8888888888888888,
              "#fdca26"
             ],
             [
              1,
              "#f0f921"
             ]
            ],
            "type": "histogram2d"
           }
          ],
          "histogram2dcontour": [
           {
            "colorbar": {
             "outlinewidth": 0,
             "ticks": ""
            },
            "colorscale": [
             [
              0,
              "#0d0887"
             ],
             [
              0.1111111111111111,
              "#46039f"
             ],
             [
              0.2222222222222222,
              "#7201a8"
             ],
             [
              0.3333333333333333,
              "#9c179e"
             ],
             [
              0.4444444444444444,
              "#bd3786"
             ],
             [
              0.5555555555555556,
              "#d8576b"
             ],
             [
              0.6666666666666666,
              "#ed7953"
             ],
             [
              0.7777777777777778,
              "#fb9f3a"
             ],
             [
              0.8888888888888888,
              "#fdca26"
             ],
             [
              1,
              "#f0f921"
             ]
            ],
            "type": "histogram2dcontour"
           }
          ],
          "mesh3d": [
           {
            "colorbar": {
             "outlinewidth": 0,
             "ticks": ""
            },
            "type": "mesh3d"
           }
          ],
          "parcoords": [
           {
            "line": {
             "colorbar": {
              "outlinewidth": 0,
              "ticks": ""
             }
            },
            "type": "parcoords"
           }
          ],
          "pie": [
           {
            "automargin": true,
            "type": "pie"
           }
          ],
          "scatter": [
           {
            "fillpattern": {
             "fillmode": "overlay",
             "size": 10,
             "solidity": 0.2
            },
            "type": "scatter"
           }
          ],
          "scatter3d": [
           {
            "line": {
             "colorbar": {
              "outlinewidth": 0,
              "ticks": ""
             }
            },
            "marker": {
             "colorbar": {
              "outlinewidth": 0,
              "ticks": ""
             }
            },
            "type": "scatter3d"
           }
          ],
          "scattercarpet": [
           {
            "marker": {
             "colorbar": {
              "outlinewidth": 0,
              "ticks": ""
             }
            },
            "type": "scattercarpet"
           }
          ],
          "scattergeo": [
           {
            "marker": {
             "colorbar": {
              "outlinewidth": 0,
              "ticks": ""
             }
            },
            "type": "scattergeo"
           }
          ],
          "scattergl": [
           {
            "marker": {
             "colorbar": {
              "outlinewidth": 0,
              "ticks": ""
             }
            },
            "type": "scattergl"
           }
          ],
          "scattermapbox": [
           {
            "marker": {
             "colorbar": {
              "outlinewidth": 0,
              "ticks": ""
             }
            },
            "type": "scattermapbox"
           }
          ],
          "scatterpolar": [
           {
            "marker": {
             "colorbar": {
              "outlinewidth": 0,
              "ticks": ""
             }
            },
            "type": "scatterpolar"
           }
          ],
          "scatterpolargl": [
           {
            "marker": {
             "colorbar": {
              "outlinewidth": 0,
              "ticks": ""
             }
            },
            "type": "scatterpolargl"
           }
          ],
          "scatterternary": [
           {
            "marker": {
             "colorbar": {
              "outlinewidth": 0,
              "ticks": ""
             }
            },
            "type": "scatterternary"
           }
          ],
          "surface": [
           {
            "colorbar": {
             "outlinewidth": 0,
             "ticks": ""
            },
            "colorscale": [
             [
              0,
              "#0d0887"
             ],
             [
              0.1111111111111111,
              "#46039f"
             ],
             [
              0.2222222222222222,
              "#7201a8"
             ],
             [
              0.3333333333333333,
              "#9c179e"
             ],
             [
              0.4444444444444444,
              "#bd3786"
             ],
             [
              0.5555555555555556,
              "#d8576b"
             ],
             [
              0.6666666666666666,
              "#ed7953"
             ],
             [
              0.7777777777777778,
              "#fb9f3a"
             ],
             [
              0.8888888888888888,
              "#fdca26"
             ],
             [
              1,
              "#f0f921"
             ]
            ],
            "type": "surface"
           }
          ],
          "table": [
           {
            "cells": {
             "fill": {
              "color": "#EBF0F8"
             },
             "line": {
              "color": "white"
             }
            },
            "header": {
             "fill": {
              "color": "#C8D4E3"
             },
             "line": {
              "color": "white"
             }
            },
            "type": "table"
           }
          ]
         },
         "layout": {
          "annotationdefaults": {
           "arrowcolor": "#2a3f5f",
           "arrowhead": 0,
           "arrowwidth": 1
          },
          "autotypenumbers": "strict",
          "coloraxis": {
           "colorbar": {
            "outlinewidth": 0,
            "ticks": ""
           }
          },
          "colorscale": {
           "diverging": [
            [
             0,
             "#8e0152"
            ],
            [
             0.1,
             "#c51b7d"
            ],
            [
             0.2,
             "#de77ae"
            ],
            [
             0.3,
             "#f1b6da"
            ],
            [
             0.4,
             "#fde0ef"
            ],
            [
             0.5,
             "#f7f7f7"
            ],
            [
             0.6,
             "#e6f5d0"
            ],
            [
             0.7,
             "#b8e186"
            ],
            [
             0.8,
             "#7fbc41"
            ],
            [
             0.9,
             "#4d9221"
            ],
            [
             1,
             "#276419"
            ]
           ],
           "sequential": [
            [
             0,
             "#0d0887"
            ],
            [
             0.1111111111111111,
             "#46039f"
            ],
            [
             0.2222222222222222,
             "#7201a8"
            ],
            [
             0.3333333333333333,
             "#9c179e"
            ],
            [
             0.4444444444444444,
             "#bd3786"
            ],
            [
             0.5555555555555556,
             "#d8576b"
            ],
            [
             0.6666666666666666,
             "#ed7953"
            ],
            [
             0.7777777777777778,
             "#fb9f3a"
            ],
            [
             0.8888888888888888,
             "#fdca26"
            ],
            [
             1,
             "#f0f921"
            ]
           ],
           "sequentialminus": [
            [
             0,
             "#0d0887"
            ],
            [
             0.1111111111111111,
             "#46039f"
            ],
            [
             0.2222222222222222,
             "#7201a8"
            ],
            [
             0.3333333333333333,
             "#9c179e"
            ],
            [
             0.4444444444444444,
             "#bd3786"
            ],
            [
             0.5555555555555556,
             "#d8576b"
            ],
            [
             0.6666666666666666,
             "#ed7953"
            ],
            [
             0.7777777777777778,
             "#fb9f3a"
            ],
            [
             0.8888888888888888,
             "#fdca26"
            ],
            [
             1,
             "#f0f921"
            ]
           ]
          },
          "colorway": [
           "#636efa",
           "#EF553B",
           "#00cc96",
           "#ab63fa",
           "#FFA15A",
           "#19d3f3",
           "#FF6692",
           "#B6E880",
           "#FF97FF",
           "#FECB52"
          ],
          "font": {
           "color": "#2a3f5f"
          },
          "geo": {
           "bgcolor": "white",
           "lakecolor": "white",
           "landcolor": "#E5ECF6",
           "showlakes": true,
           "showland": true,
           "subunitcolor": "white"
          },
          "hoverlabel": {
           "align": "left"
          },
          "hovermode": "closest",
          "mapbox": {
           "style": "light"
          },
          "paper_bgcolor": "white",
          "plot_bgcolor": "#E5ECF6",
          "polar": {
           "angularaxis": {
            "gridcolor": "white",
            "linecolor": "white",
            "ticks": ""
           },
           "bgcolor": "#E5ECF6",
           "radialaxis": {
            "gridcolor": "white",
            "linecolor": "white",
            "ticks": ""
           }
          },
          "scene": {
           "xaxis": {
            "backgroundcolor": "#E5ECF6",
            "gridcolor": "white",
            "gridwidth": 2,
            "linecolor": "white",
            "showbackground": true,
            "ticks": "",
            "zerolinecolor": "white"
           },
           "yaxis": {
            "backgroundcolor": "#E5ECF6",
            "gridcolor": "white",
            "gridwidth": 2,
            "linecolor": "white",
            "showbackground": true,
            "ticks": "",
            "zerolinecolor": "white"
           },
           "zaxis": {
            "backgroundcolor": "#E5ECF6",
            "gridcolor": "white",
            "gridwidth": 2,
            "linecolor": "white",
            "showbackground": true,
            "ticks": "",
            "zerolinecolor": "white"
           }
          },
          "shapedefaults": {
           "line": {
            "color": "#2a3f5f"
           }
          },
          "ternary": {
           "aaxis": {
            "gridcolor": "white",
            "linecolor": "white",
            "ticks": ""
           },
           "baxis": {
            "gridcolor": "white",
            "linecolor": "white",
            "ticks": ""
           },
           "bgcolor": "#E5ECF6",
           "caxis": {
            "gridcolor": "white",
            "linecolor": "white",
            "ticks": ""
           }
          },
          "title": {
           "x": 0.05
          },
          "xaxis": {
           "automargin": true,
           "gridcolor": "white",
           "linecolor": "white",
           "ticks": "",
           "title": {
            "standoff": 15
           },
           "zerolinecolor": "white",
           "zerolinewidth": 2
          },
          "yaxis": {
           "automargin": true,
           "gridcolor": "white",
           "linecolor": "white",
           "ticks": "",
           "title": {
            "standoff": 15
           },
           "zerolinecolor": "white",
           "zerolinewidth": 2
          }
         }
        },
        "xaxis": {
         "anchor": "y",
         "domain": [
          0,
          1
         ],
         "title": {
          "text": "neighbourhood_group"
         }
        },
        "yaxis": {
         "anchor": "x",
         "domain": [
          0,
          1
         ],
         "title": {
          "text": "price"
         }
        }
       }
      },
      "text/html": [
       "<div>                            <div id=\"880ee6bc-6d5c-48b4-b936-fac01b3c8c52\" class=\"plotly-graph-div\" style=\"height:525px; width:100%;\"></div>            <script type=\"text/javascript\">                require([\"plotly\"], function(Plotly) {                    window.PLOTLYENV=window.PLOTLYENV || {};                                    if (document.getElementById(\"880ee6bc-6d5c-48b4-b936-fac01b3c8c52\")) {                    Plotly.newPlot(                        \"880ee6bc-6d5c-48b4-b936-fac01b3c8c52\",                        [{\"alignmentgroup\":\"True\",\"hovertemplate\":\"neighbourhood_group=%{x}\\u003cbr\\u003eprice=%{y}\\u003cextra\\u003e\\u003c\\u002fextra\\u003e\",\"legendgroup\":\"\",\"marker\":{\"color\":\"#636efa\",\"pattern\":{\"shape\":\"\"}},\"name\":\"\",\"offsetgroup\":\"\",\"orientation\":\"v\",\"showlegend\":false,\"textposition\":\"auto\",\"x\":[\"Bronx\",\"Brooklyn\",\"Manhattan\",\"Queens\",\"Staten Island\"],\"xaxis\":\"x\",\"y\":[2500,10000,10000,10000,5000],\"yaxis\":\"y\",\"type\":\"bar\"}],                        {\"template\":{\"data\":{\"histogram2dcontour\":[{\"type\":\"histogram2dcontour\",\"colorbar\":{\"outlinewidth\":0,\"ticks\":\"\"},\"colorscale\":[[0.0,\"#0d0887\"],[0.1111111111111111,\"#46039f\"],[0.2222222222222222,\"#7201a8\"],[0.3333333333333333,\"#9c179e\"],[0.4444444444444444,\"#bd3786\"],[0.5555555555555556,\"#d8576b\"],[0.6666666666666666,\"#ed7953\"],[0.7777777777777778,\"#fb9f3a\"],[0.8888888888888888,\"#fdca26\"],[1.0,\"#f0f921\"]]}],\"choropleth\":[{\"type\":\"choropleth\",\"colorbar\":{\"outlinewidth\":0,\"ticks\":\"\"}}],\"histogram2d\":[{\"type\":\"histogram2d\",\"colorbar\":{\"outlinewidth\":0,\"ticks\":\"\"},\"colorscale\":[[0.0,\"#0d0887\"],[0.1111111111111111,\"#46039f\"],[0.2222222222222222,\"#7201a8\"],[0.3333333333333333,\"#9c179e\"],[0.4444444444444444,\"#bd3786\"],[0.5555555555555556,\"#d8576b\"],[0.6666666666666666,\"#ed7953\"],[0.7777777777777778,\"#fb9f3a\"],[0.8888888888888888,\"#fdca26\"],[1.0,\"#f0f921\"]]}],\"heatmap\":[{\"type\":\"heatmap\",\"colorbar\":{\"outlinewidth\":0,\"ticks\":\"\"},\"colorscale\":[[0.0,\"#0d0887\"],[0.1111111111111111,\"#46039f\"],[0.2222222222222222,\"#7201a8\"],[0.3333333333333333,\"#9c179e\"],[0.4444444444444444,\"#bd3786\"],[0.5555555555555556,\"#d8576b\"],[0.6666666666666666,\"#ed7953\"],[0.7777777777777778,\"#fb9f3a\"],[0.8888888888888888,\"#fdca26\"],[1.0,\"#f0f921\"]]}],\"heatmapgl\":[{\"type\":\"heatmapgl\",\"colorbar\":{\"outlinewidth\":0,\"ticks\":\"\"},\"colorscale\":[[0.0,\"#0d0887\"],[0.1111111111111111,\"#46039f\"],[0.2222222222222222,\"#7201a8\"],[0.3333333333333333,\"#9c179e\"],[0.4444444444444444,\"#bd3786\"],[0.5555555555555556,\"#d8576b\"],[0.6666666666666666,\"#ed7953\"],[0.7777777777777778,\"#fb9f3a\"],[0.8888888888888888,\"#fdca26\"],[1.0,\"#f0f921\"]]}],\"contourcarpet\":[{\"type\":\"contourcarpet\",\"colorbar\":{\"outlinewidth\":0,\"ticks\":\"\"}}],\"contour\":[{\"type\":\"contour\",\"colorbar\":{\"outlinewidth\":0,\"ticks\":\"\"},\"colorscale\":[[0.0,\"#0d0887\"],[0.1111111111111111,\"#46039f\"],[0.2222222222222222,\"#7201a8\"],[0.3333333333333333,\"#9c179e\"],[0.4444444444444444,\"#bd3786\"],[0.5555555555555556,\"#d8576b\"],[0.6666666666666666,\"#ed7953\"],[0.7777777777777778,\"#fb9f3a\"],[0.8888888888888888,\"#fdca26\"],[1.0,\"#f0f921\"]]}],\"surface\":[{\"type\":\"surface\",\"colorbar\":{\"outlinewidth\":0,\"ticks\":\"\"},\"colorscale\":[[0.0,\"#0d0887\"],[0.1111111111111111,\"#46039f\"],[0.2222222222222222,\"#7201a8\"],[0.3333333333333333,\"#9c179e\"],[0.4444444444444444,\"#bd3786\"],[0.5555555555555556,\"#d8576b\"],[0.6666666666666666,\"#ed7953\"],[0.7777777777777778,\"#fb9f3a\"],[0.8888888888888888,\"#fdca26\"],[1.0,\"#f0f921\"]]}],\"mesh3d\":[{\"type\":\"mesh3d\",\"colorbar\":{\"outlinewidth\":0,\"ticks\":\"\"}}],\"scatter\":[{\"fillpattern\":{\"fillmode\":\"overlay\",\"size\":10,\"solidity\":0.2},\"type\":\"scatter\"}],\"parcoords\":[{\"type\":\"parcoords\",\"line\":{\"colorbar\":{\"outlinewidth\":0,\"ticks\":\"\"}}}],\"scatterpolargl\":[{\"type\":\"scatterpolargl\",\"marker\":{\"colorbar\":{\"outlinewidth\":0,\"ticks\":\"\"}}}],\"bar\":[{\"error_x\":{\"color\":\"#2a3f5f\"},\"error_y\":{\"color\":\"#2a3f5f\"},\"marker\":{\"line\":{\"color\":\"#E5ECF6\",\"width\":0.5},\"pattern\":{\"fillmode\":\"overlay\",\"size\":10,\"solidity\":0.2}},\"type\":\"bar\"}],\"scattergeo\":[{\"type\":\"scattergeo\",\"marker\":{\"colorbar\":{\"outlinewidth\":0,\"ticks\":\"\"}}}],\"scatterpolar\":[{\"type\":\"scatterpolar\",\"marker\":{\"colorbar\":{\"outlinewidth\":0,\"ticks\":\"\"}}}],\"histogram\":[{\"marker\":{\"pattern\":{\"fillmode\":\"overlay\",\"size\":10,\"solidity\":0.2}},\"type\":\"histogram\"}],\"scattergl\":[{\"type\":\"scattergl\",\"marker\":{\"colorbar\":{\"outlinewidth\":0,\"ticks\":\"\"}}}],\"scatter3d\":[{\"type\":\"scatter3d\",\"line\":{\"colorbar\":{\"outlinewidth\":0,\"ticks\":\"\"}},\"marker\":{\"colorbar\":{\"outlinewidth\":0,\"ticks\":\"\"}}}],\"scattermapbox\":[{\"type\":\"scattermapbox\",\"marker\":{\"colorbar\":{\"outlinewidth\":0,\"ticks\":\"\"}}}],\"scatterternary\":[{\"type\":\"scatterternary\",\"marker\":{\"colorbar\":{\"outlinewidth\":0,\"ticks\":\"\"}}}],\"scattercarpet\":[{\"type\":\"scattercarpet\",\"marker\":{\"colorbar\":{\"outlinewidth\":0,\"ticks\":\"\"}}}],\"carpet\":[{\"aaxis\":{\"endlinecolor\":\"#2a3f5f\",\"gridcolor\":\"white\",\"linecolor\":\"white\",\"minorgridcolor\":\"white\",\"startlinecolor\":\"#2a3f5f\"},\"baxis\":{\"endlinecolor\":\"#2a3f5f\",\"gridcolor\":\"white\",\"linecolor\":\"white\",\"minorgridcolor\":\"white\",\"startlinecolor\":\"#2a3f5f\"},\"type\":\"carpet\"}],\"table\":[{\"cells\":{\"fill\":{\"color\":\"#EBF0F8\"},\"line\":{\"color\":\"white\"}},\"header\":{\"fill\":{\"color\":\"#C8D4E3\"},\"line\":{\"color\":\"white\"}},\"type\":\"table\"}],\"barpolar\":[{\"marker\":{\"line\":{\"color\":\"#E5ECF6\",\"width\":0.5},\"pattern\":{\"fillmode\":\"overlay\",\"size\":10,\"solidity\":0.2}},\"type\":\"barpolar\"}],\"pie\":[{\"automargin\":true,\"type\":\"pie\"}]},\"layout\":{\"autotypenumbers\":\"strict\",\"colorway\":[\"#636efa\",\"#EF553B\",\"#00cc96\",\"#ab63fa\",\"#FFA15A\",\"#19d3f3\",\"#FF6692\",\"#B6E880\",\"#FF97FF\",\"#FECB52\"],\"font\":{\"color\":\"#2a3f5f\"},\"hovermode\":\"closest\",\"hoverlabel\":{\"align\":\"left\"},\"paper_bgcolor\":\"white\",\"plot_bgcolor\":\"#E5ECF6\",\"polar\":{\"bgcolor\":\"#E5ECF6\",\"angularaxis\":{\"gridcolor\":\"white\",\"linecolor\":\"white\",\"ticks\":\"\"},\"radialaxis\":{\"gridcolor\":\"white\",\"linecolor\":\"white\",\"ticks\":\"\"}},\"ternary\":{\"bgcolor\":\"#E5ECF6\",\"aaxis\":{\"gridcolor\":\"white\",\"linecolor\":\"white\",\"ticks\":\"\"},\"baxis\":{\"gridcolor\":\"white\",\"linecolor\":\"white\",\"ticks\":\"\"},\"caxis\":{\"gridcolor\":\"white\",\"linecolor\":\"white\",\"ticks\":\"\"}},\"coloraxis\":{\"colorbar\":{\"outlinewidth\":0,\"ticks\":\"\"}},\"colorscale\":{\"sequential\":[[0.0,\"#0d0887\"],[0.1111111111111111,\"#46039f\"],[0.2222222222222222,\"#7201a8\"],[0.3333333333333333,\"#9c179e\"],[0.4444444444444444,\"#bd3786\"],[0.5555555555555556,\"#d8576b\"],[0.6666666666666666,\"#ed7953\"],[0.7777777777777778,\"#fb9f3a\"],[0.8888888888888888,\"#fdca26\"],[1.0,\"#f0f921\"]],\"sequentialminus\":[[0.0,\"#0d0887\"],[0.1111111111111111,\"#46039f\"],[0.2222222222222222,\"#7201a8\"],[0.3333333333333333,\"#9c179e\"],[0.4444444444444444,\"#bd3786\"],[0.5555555555555556,\"#d8576b\"],[0.6666666666666666,\"#ed7953\"],[0.7777777777777778,\"#fb9f3a\"],[0.8888888888888888,\"#fdca26\"],[1.0,\"#f0f921\"]],\"diverging\":[[0,\"#8e0152\"],[0.1,\"#c51b7d\"],[0.2,\"#de77ae\"],[0.3,\"#f1b6da\"],[0.4,\"#fde0ef\"],[0.5,\"#f7f7f7\"],[0.6,\"#e6f5d0\"],[0.7,\"#b8e186\"],[0.8,\"#7fbc41\"],[0.9,\"#4d9221\"],[1,\"#276419\"]]},\"xaxis\":{\"gridcolor\":\"white\",\"linecolor\":\"white\",\"ticks\":\"\",\"title\":{\"standoff\":15},\"zerolinecolor\":\"white\",\"automargin\":true,\"zerolinewidth\":2},\"yaxis\":{\"gridcolor\":\"white\",\"linecolor\":\"white\",\"ticks\":\"\",\"title\":{\"standoff\":15},\"zerolinecolor\":\"white\",\"automargin\":true,\"zerolinewidth\":2},\"scene\":{\"xaxis\":{\"backgroundcolor\":\"#E5ECF6\",\"gridcolor\":\"white\",\"linecolor\":\"white\",\"showbackground\":true,\"ticks\":\"\",\"zerolinecolor\":\"white\",\"gridwidth\":2},\"yaxis\":{\"backgroundcolor\":\"#E5ECF6\",\"gridcolor\":\"white\",\"linecolor\":\"white\",\"showbackground\":true,\"ticks\":\"\",\"zerolinecolor\":\"white\",\"gridwidth\":2},\"zaxis\":{\"backgroundcolor\":\"#E5ECF6\",\"gridcolor\":\"white\",\"linecolor\":\"white\",\"showbackground\":true,\"ticks\":\"\",\"zerolinecolor\":\"white\",\"gridwidth\":2}},\"shapedefaults\":{\"line\":{\"color\":\"#2a3f5f\"}},\"annotationdefaults\":{\"arrowcolor\":\"#2a3f5f\",\"arrowhead\":0,\"arrowwidth\":1},\"geo\":{\"bgcolor\":\"white\",\"landcolor\":\"#E5ECF6\",\"subunitcolor\":\"white\",\"showland\":true,\"showlakes\":true,\"lakecolor\":\"white\"},\"title\":{\"x\":0.05},\"mapbox\":{\"style\":\"light\"}}},\"xaxis\":{\"anchor\":\"y\",\"domain\":[0.0,1.0],\"title\":{\"text\":\"neighbourhood_group\"}},\"yaxis\":{\"anchor\":\"x\",\"domain\":[0.0,1.0],\"title\":{\"text\":\"price\"}},\"legend\":{\"tracegroupgap\":0},\"margin\":{\"t\":60},\"barmode\":\"relative\"},                        {\"responsive\": true}                    ).then(function(){\n",
       "                            \n",
       "var gd = document.getElementById('880ee6bc-6d5c-48b4-b936-fac01b3c8c52');\n",
       "var x = new MutationObserver(function (mutations, observer) {{\n",
       "        var display = window.getComputedStyle(gd).display;\n",
       "        if (!display || display === 'none') {{\n",
       "            console.log([gd, 'removed!']);\n",
       "            Plotly.purge(gd);\n",
       "            observer.disconnect();\n",
       "        }}\n",
       "}});\n",
       "\n",
       "// Listen for the removal of the full notebook cells\n",
       "var notebookContainer = gd.closest('#notebook-container');\n",
       "if (notebookContainer) {{\n",
       "    x.observe(notebookContainer, {childList: true});\n",
       "}}\n",
       "\n",
       "// Listen for the clearing of the current output cell\n",
       "var outputEl = gd.closest('.output');\n",
       "if (outputEl) {{\n",
       "    x.observe(outputEl, {childList: true});\n",
       "}}\n",
       "\n",
       "                        })                };                });            </script>        </div>"
      ]
     },
     "metadata": {},
     "output_type": "display_data"
    }
   ],
   "source": [
    "# importando as bibliotecas\n",
    "import pandas as pd\n",
    "import plotly.express as px\n",
    "\n",
    "# lendo a base de dados\n",
    "data = pd.read_csv('AB_NYC_2019.csv')\n",
    "\n",
    "# selecionando linhas e colunas, e selecionando a coluna que irá agrupar\n",
    "colunas = ['price','neighbourhood_group']\n",
    "colunas_groupby = ['neighbourhood_group']\n",
    "\n",
    "# criando os segmentos\n",
    "data_plot = data.loc[:, colunas].groupby(colunas_groupby).max().reset_index()\n",
    "\n",
    "# desenhando o gráfico\n",
    "px.bar(data_plot, x='neighbourhood_group', y='price')"
   ]
  },
  {
   "cell_type": "markdown",
   "metadata": {
    "id": "tPC7G7y6IoTK"
   },
   "source": [
    "### 2. Conseguimos saber onde estão localizados os imóveis com o valor do aluguel mais caro, na cidade de Nova York?\n"
   ]
  },
  {
   "cell_type": "code",
   "execution_count": 13,
   "metadata": {
    "colab": {
     "base_uri": "https://localhost:8080/",
     "height": 763
    },
    "id": "86sJg9KdItuJ",
    "outputId": "598d9403-515a-48cf-9e5c-7fe85edd548c"
   },
   "outputs": [
    {
     "data": {
      "text/html": [
       "<div style=\"width:100%;\"><div style=\"position:relative;width:100%;height:0;padding-bottom:60%;\"><span style=\"color:#565656\">Make this Notebook Trusted to load map: File -> Trust Notebook</span><iframe srcdoc=\"&lt;!DOCTYPE html&gt;\n",
       "&lt;html&gt;\n",
       "&lt;head&gt;\n",
       "    \n",
       "    &lt;meta http-equiv=&quot;content-type&quot; content=&quot;text/html; charset=UTF-8&quot; /&gt;\n",
       "    \n",
       "        &lt;script&gt;\n",
       "            L_NO_TOUCH = false;\n",
       "            L_DISABLE_3D = false;\n",
       "        &lt;/script&gt;\n",
       "    \n",
       "    &lt;style&gt;html, body {width: 100%;height: 100%;margin: 0;padding: 0;}&lt;/style&gt;\n",
       "    &lt;style&gt;#map {position:absolute;top:0;bottom:0;right:0;left:0;}&lt;/style&gt;\n",
       "    &lt;script src=&quot;https://cdn.jsdelivr.net/npm/leaflet@1.9.3/dist/leaflet.js&quot;&gt;&lt;/script&gt;\n",
       "    &lt;script src=&quot;https://code.jquery.com/jquery-3.7.1.min.js&quot;&gt;&lt;/script&gt;\n",
       "    &lt;script src=&quot;https://cdn.jsdelivr.net/npm/bootstrap@5.2.2/dist/js/bootstrap.bundle.min.js&quot;&gt;&lt;/script&gt;\n",
       "    &lt;script src=&quot;https://cdnjs.cloudflare.com/ajax/libs/Leaflet.awesome-markers/2.0.2/leaflet.awesome-markers.js&quot;&gt;&lt;/script&gt;\n",
       "    &lt;link rel=&quot;stylesheet&quot; href=&quot;https://cdn.jsdelivr.net/npm/leaflet@1.9.3/dist/leaflet.css&quot;/&gt;\n",
       "    &lt;link rel=&quot;stylesheet&quot; href=&quot;https://cdn.jsdelivr.net/npm/bootstrap@5.2.2/dist/css/bootstrap.min.css&quot;/&gt;\n",
       "    &lt;link rel=&quot;stylesheet&quot; href=&quot;https://netdna.bootstrapcdn.com/bootstrap/3.0.0/css/bootstrap.min.css&quot;/&gt;\n",
       "    &lt;link rel=&quot;stylesheet&quot; href=&quot;https://cdn.jsdelivr.net/npm/@fortawesome/fontawesome-free@6.2.0/css/all.min.css&quot;/&gt;\n",
       "    &lt;link rel=&quot;stylesheet&quot; href=&quot;https://cdnjs.cloudflare.com/ajax/libs/Leaflet.awesome-markers/2.0.2/leaflet.awesome-markers.css&quot;/&gt;\n",
       "    &lt;link rel=&quot;stylesheet&quot; href=&quot;https://cdn.jsdelivr.net/gh/python-visualization/folium/folium/templates/leaflet.awesome.rotate.min.css&quot;/&gt;\n",
       "    \n",
       "            &lt;meta name=&quot;viewport&quot; content=&quot;width=device-width,\n",
       "                initial-scale=1.0, maximum-scale=1.0, user-scalable=no&quot; /&gt;\n",
       "            &lt;style&gt;\n",
       "                #map_9aa27c137c3a52e66f8de5bbbe14484c {\n",
       "                    position: relative;\n",
       "                    width: 100.0%;\n",
       "                    height: 100.0%;\n",
       "                    left: 0.0%;\n",
       "                    top: 0.0%;\n",
       "                }\n",
       "                .leaflet-container { font-size: 1rem; }\n",
       "            &lt;/style&gt;\n",
       "        \n",
       "&lt;/head&gt;\n",
       "&lt;body&gt;\n",
       "    \n",
       "    \n",
       "            &lt;div class=&quot;folium-map&quot; id=&quot;map_9aa27c137c3a52e66f8de5bbbe14484c&quot; &gt;&lt;/div&gt;\n",
       "        \n",
       "&lt;/body&gt;\n",
       "&lt;script&gt;\n",
       "    \n",
       "    \n",
       "            var map_9aa27c137c3a52e66f8de5bbbe14484c = L.map(\n",
       "                &quot;map_9aa27c137c3a52e66f8de5bbbe14484c&quot;,\n",
       "                {\n",
       "                    center: [40.794722, -73.86416],\n",
       "                    crs: L.CRS.EPSG3857,\n",
       "                    zoom: 10,\n",
       "                    zoomControl: true,\n",
       "                    preferCanvas: false,\n",
       "                }\n",
       "            );\n",
       "            L.control.scale().addTo(map_9aa27c137c3a52e66f8de5bbbe14484c);\n",
       "\n",
       "            \n",
       "\n",
       "        \n",
       "    \n",
       "            var tile_layer_05020cceb6e629f9f5b578a892c1229f = L.tileLayer(\n",
       "                &quot;https://{s}.tile.openstreetmap.org/{z}/{x}/{y}.png&quot;,\n",
       "                {&quot;attribution&quot;: &quot;Data by \\u0026copy; \\u003ca target=\\&quot;_blank\\&quot; href=\\&quot;http://openstreetmap.org\\&quot;\\u003eOpenStreetMap\\u003c/a\\u003e, under \\u003ca target=\\&quot;_blank\\&quot; href=\\&quot;http://www.openstreetmap.org/copyright\\&quot;\\u003eODbL\\u003c/a\\u003e.&quot;, &quot;detectRetina&quot;: false, &quot;maxNativeZoom&quot;: 18, &quot;maxZoom&quot;: 18, &quot;minZoom&quot;: 0, &quot;noWrap&quot;: false, &quot;opacity&quot;: 1, &quot;subdomains&quot;: &quot;abc&quot;, &quot;tms&quot;: false}\n",
       "            );\n",
       "        \n",
       "    \n",
       "                tile_layer_05020cceb6e629f9f5b578a892c1229f.addTo(map_9aa27c137c3a52e66f8de5bbbe14484c);\n",
       "    \n",
       "            var marker_a32c0d5a5032e856345016c2b6388887 = L.marker(\n",
       "                [40.91306, -73.78158],\n",
       "                {}\n",
       "            ).addTo(map_9aa27c137c3a52e66f8de5bbbe14484c);\n",
       "        \n",
       "    \n",
       "        var popup_8fa8a1216945948605ed630c61854636 = L.popup({&quot;maxWidth&quot;: &quot;100%&quot;});\n",
       "\n",
       "        \n",
       "            \n",
       "                var html_5cb44470ac0a0e448d3c20d35ab2dd45 = $(`&lt;div id=&quot;html_5cb44470ac0a0e448d3c20d35ab2dd45&quot; style=&quot;width: 100.0%; height: 100.0%;&quot;&gt;Bronx&lt;/div&gt;`)[0];\n",
       "                popup_8fa8a1216945948605ed630c61854636.setContent(html_5cb44470ac0a0e448d3c20d35ab2dd45);\n",
       "            \n",
       "        \n",
       "\n",
       "        marker_a32c0d5a5032e856345016c2b6388887.bindPopup(popup_8fa8a1216945948605ed630c61854636)\n",
       "        ;\n",
       "\n",
       "        \n",
       "    \n",
       "    \n",
       "            var marker_d1b827f84474466f1e5ca271275cd346 = L.marker(\n",
       "                [40.7389, -73.85676],\n",
       "                {}\n",
       "            ).addTo(map_9aa27c137c3a52e66f8de5bbbe14484c);\n",
       "        \n",
       "    \n",
       "        var popup_8ce95b178c6f5f509bd0377fb5bc50e4 = L.popup({&quot;maxWidth&quot;: &quot;100%&quot;});\n",
       "\n",
       "        \n",
       "            \n",
       "                var html_f837711d753b7f873c25959c05c2e791 = $(`&lt;div id=&quot;html_f837711d753b7f873c25959c05c2e791&quot; style=&quot;width: 100.0%; height: 100.0%;&quot;&gt;Brooklyn&lt;/div&gt;`)[0];\n",
       "                popup_8ce95b178c6f5f509bd0377fb5bc50e4.setContent(html_f837711d753b7f873c25959c05c2e791);\n",
       "            \n",
       "        \n",
       "\n",
       "        marker_d1b827f84474466f1e5ca271275cd346.bindPopup(popup_8ce95b178c6f5f509bd0377fb5bc50e4)\n",
       "        ;\n",
       "\n",
       "        \n",
       "    \n",
       "    \n",
       "            var marker_6f0eff423e4717105a110d639a1bb9e4 = L.marker(\n",
       "                [40.87665, -73.90855],\n",
       "                {}\n",
       "            ).addTo(map_9aa27c137c3a52e66f8de5bbbe14484c);\n",
       "        \n",
       "    \n",
       "        var popup_17b77a68c45231e281ad0e2620349900 = L.popup({&quot;maxWidth&quot;: &quot;100%&quot;});\n",
       "\n",
       "        \n",
       "            \n",
       "                var html_291a9b156148075ebd78dbe03bb67e40 = $(`&lt;div id=&quot;html_291a9b156148075ebd78dbe03bb67e40&quot; style=&quot;width: 100.0%; height: 100.0%;&quot;&gt;Manhattan&lt;/div&gt;`)[0];\n",
       "                popup_17b77a68c45231e281ad0e2620349900.setContent(html_291a9b156148075ebd78dbe03bb67e40);\n",
       "            \n",
       "        \n",
       "\n",
       "        marker_6f0eff423e4717105a110d639a1bb9e4.bindPopup(popup_17b77a68c45231e281ad0e2620349900)\n",
       "        ;\n",
       "\n",
       "        \n",
       "    \n",
       "    \n",
       "            var marker_24fb7ae36f86bbc4a05ecdc2d5a7814f = L.marker(\n",
       "                [40.79721, -73.71299],\n",
       "                {}\n",
       "            ).addTo(map_9aa27c137c3a52e66f8de5bbbe14484c);\n",
       "        \n",
       "    \n",
       "        var popup_9f1758e475ce6796a716765d84ddc0bf = L.popup({&quot;maxWidth&quot;: &quot;100%&quot;});\n",
       "\n",
       "        \n",
       "            \n",
       "                var html_df28ac46b5c8fdc2fa7aa483d3ece5da = $(`&lt;div id=&quot;html_df28ac46b5c8fdc2fa7aa483d3ece5da&quot; style=&quot;width: 100.0%; height: 100.0%;&quot;&gt;Queens&lt;/div&gt;`)[0];\n",
       "                popup_9f1758e475ce6796a716765d84ddc0bf.setContent(html_df28ac46b5c8fdc2fa7aa483d3ece5da);\n",
       "            \n",
       "        \n",
       "\n",
       "        marker_24fb7ae36f86bbc4a05ecdc2d5a7814f.bindPopup(popup_9f1758e475ce6796a716765d84ddc0bf)\n",
       "        ;\n",
       "\n",
       "        \n",
       "    \n",
       "    \n",
       "            var marker_02a24321e764851d37461459116ef570 = L.marker(\n",
       "                [40.64779, -74.06092],\n",
       "                {}\n",
       "            ).addTo(map_9aa27c137c3a52e66f8de5bbbe14484c);\n",
       "        \n",
       "    \n",
       "        var popup_50641ef7cd33fb78e29dff6cc1c01338 = L.popup({&quot;maxWidth&quot;: &quot;100%&quot;});\n",
       "\n",
       "        \n",
       "            \n",
       "                var html_eec94a6cb8d0ccc38138a1c4b61d053e = $(`&lt;div id=&quot;html_eec94a6cb8d0ccc38138a1c4b61d053e&quot; style=&quot;width: 100.0%; height: 100.0%;&quot;&gt;Staten Island&lt;/div&gt;`)[0];\n",
       "                popup_50641ef7cd33fb78e29dff6cc1c01338.setContent(html_eec94a6cb8d0ccc38138a1c4b61d053e);\n",
       "            \n",
       "        \n",
       "\n",
       "        marker_02a24321e764851d37461459116ef570.bindPopup(popup_50641ef7cd33fb78e29dff6cc1c01338)\n",
       "        ;\n",
       "\n",
       "        \n",
       "    \n",
       "&lt;/script&gt;\n",
       "&lt;/html&gt;\" style=\"position:absolute;width:100%;height:100%;left:0;top:0;border:none !important;\" allowfullscreen webkitallowfullscreen mozallowfullscreen></iframe></div></div>"
      ],
      "text/plain": [
       "<folium.folium.Map at 0x2122e71b460>"
      ]
     },
     "execution_count": 13,
     "metadata": {},
     "output_type": "execute_result"
    }
   ],
   "source": [
    "# importando as bibliotecas\n",
    "import pandas as pd\n",
    "import folium\n",
    "\n",
    "# lendo a base de dados\n",
    "data = pd.read_csv('AB_NYC_2019.csv')\n",
    "\n",
    "# selecionando linhas e colunas, e selecionando a coluna que irá agrupar\n",
    "colunas = ['price','neighbourhood_group','latitude','longitude']\n",
    "colunas_groupby = ['neighbourhood_group']\n",
    "\n",
    "# criando os segmentos\n",
    "data_plot = data.loc[:, colunas].groupby(colunas_groupby).max().reset_index()\n",
    "\n",
    "# criando a área do mapa\n",
    "f = folium.Figure(width=1024, height=768)\n",
    "\n",
    "# desenhando o mapa\n",
    "map = folium.Map(\n",
    "  location=[data_plot['latitude'].mean(),\n",
    "  data_plot['longitude'].mean()],\n",
    "  zoom_start=10,\n",
    "  control_scale=True\n",
    ")\n",
    "\n",
    "# adicionando os pinos no mapa\n",
    "for index, location_info in data_plot.iterrows():\n",
    "  folium.Marker( [location_info['latitude'],\n",
    "                location_info['longitude']],\n",
    "                popup=location_info['neighbourhood_group'] ).add_to( map )\n",
    "# exibindo o mapa\n",
    "map\n"
   ]
  },
  {
   "cell_type": "markdown",
   "metadata": {
    "id": "UBkGLGHbIxty"
   },
   "source": [
    "### 3. Conseguimos saber onde estão localizados os imóveis pelo seu tipo?"
   ]
  },
  {
   "cell_type": "code",
   "execution_count": 18,
   "metadata": {
    "colab": {
     "base_uri": "https://localhost:8080/",
     "height": 763
    },
    "id": "JkBfT5qaIzJz",
    "outputId": "8eff874b-dbb1-477a-c66f-5b6f48cd1e47"
   },
   "outputs": [
    {
     "data": {
      "text/html": [
       "<div style=\"width:100%;\"><div style=\"position:relative;width:100%;height:0;padding-bottom:60%;\"><span style=\"color:#565656\">Make this Notebook Trusted to load map: File -> Trust Notebook</span><iframe srcdoc=\"&lt;!DOCTYPE html&gt;\n",
       "&lt;html&gt;\n",
       "&lt;head&gt;\n",
       "    \n",
       "    &lt;meta http-equiv=&quot;content-type&quot; content=&quot;text/html; charset=UTF-8&quot; /&gt;\n",
       "    \n",
       "        &lt;script&gt;\n",
       "            L_NO_TOUCH = false;\n",
       "            L_DISABLE_3D = false;\n",
       "        &lt;/script&gt;\n",
       "    \n",
       "    &lt;style&gt;html, body {width: 100%;height: 100%;margin: 0;padding: 0;}&lt;/style&gt;\n",
       "    &lt;style&gt;#map {position:absolute;top:0;bottom:0;right:0;left:0;}&lt;/style&gt;\n",
       "    &lt;script src=&quot;https://cdn.jsdelivr.net/npm/leaflet@1.9.3/dist/leaflet.js&quot;&gt;&lt;/script&gt;\n",
       "    &lt;script src=&quot;https://code.jquery.com/jquery-3.7.1.min.js&quot;&gt;&lt;/script&gt;\n",
       "    &lt;script src=&quot;https://cdn.jsdelivr.net/npm/bootstrap@5.2.2/dist/js/bootstrap.bundle.min.js&quot;&gt;&lt;/script&gt;\n",
       "    &lt;script src=&quot;https://cdnjs.cloudflare.com/ajax/libs/Leaflet.awesome-markers/2.0.2/leaflet.awesome-markers.js&quot;&gt;&lt;/script&gt;\n",
       "    &lt;link rel=&quot;stylesheet&quot; href=&quot;https://cdn.jsdelivr.net/npm/leaflet@1.9.3/dist/leaflet.css&quot;/&gt;\n",
       "    &lt;link rel=&quot;stylesheet&quot; href=&quot;https://cdn.jsdelivr.net/npm/bootstrap@5.2.2/dist/css/bootstrap.min.css&quot;/&gt;\n",
       "    &lt;link rel=&quot;stylesheet&quot; href=&quot;https://netdna.bootstrapcdn.com/bootstrap/3.0.0/css/bootstrap.min.css&quot;/&gt;\n",
       "    &lt;link rel=&quot;stylesheet&quot; href=&quot;https://cdn.jsdelivr.net/npm/@fortawesome/fontawesome-free@6.2.0/css/all.min.css&quot;/&gt;\n",
       "    &lt;link rel=&quot;stylesheet&quot; href=&quot;https://cdnjs.cloudflare.com/ajax/libs/Leaflet.awesome-markers/2.0.2/leaflet.awesome-markers.css&quot;/&gt;\n",
       "    &lt;link rel=&quot;stylesheet&quot; href=&quot;https://cdn.jsdelivr.net/gh/python-visualization/folium/folium/templates/leaflet.awesome.rotate.min.css&quot;/&gt;\n",
       "    \n",
       "            &lt;meta name=&quot;viewport&quot; content=&quot;width=device-width,\n",
       "                initial-scale=1.0, maximum-scale=1.0, user-scalable=no&quot; /&gt;\n",
       "            &lt;style&gt;\n",
       "                #map_cfd36429a0e3b43f4e06f08c2c10e561 {\n",
       "                    position: relative;\n",
       "                    width: 100.0%;\n",
       "                    height: 100.0%;\n",
       "                    left: 0.0%;\n",
       "                    top: 0.0%;\n",
       "                }\n",
       "                .leaflet-container { font-size: 1rem; }\n",
       "            &lt;/style&gt;\n",
       "        \n",
       "&lt;/head&gt;\n",
       "&lt;body&gt;\n",
       "    \n",
       "    \n",
       "            &lt;div class=&quot;folium-map&quot; id=&quot;map_cfd36429a0e3b43f4e06f08c2c10e561&quot; &gt;&lt;/div&gt;\n",
       "        \n",
       "&lt;/body&gt;\n",
       "&lt;script&gt;\n",
       "    \n",
       "    \n",
       "            var map_cfd36429a0e3b43f4e06f08c2c10e561 = L.map(\n",
       "                &quot;map_cfd36429a0e3b43f4e06f08c2c10e561&quot;,\n",
       "                {\n",
       "                    center: [0.0, 0.0],\n",
       "                    crs: L.CRS.EPSG3857,\n",
       "                    zoom: 1,\n",
       "                    zoomControl: true,\n",
       "                    preferCanvas: false,\n",
       "                }\n",
       "            );\n",
       "\n",
       "            \n",
       "\n",
       "        \n",
       "    \n",
       "            var tile_layer_67fe65dc4c4ab9ed6defa884018f7696 = L.tileLayer(\n",
       "                &quot;https://{s}.tile.openstreetmap.org/{z}/{x}/{y}.png&quot;,\n",
       "                {&quot;attribution&quot;: &quot;Data by \\u0026copy; \\u003ca target=\\&quot;_blank\\&quot; href=\\&quot;http://openstreetmap.org\\&quot;\\u003eOpenStreetMap\\u003c/a\\u003e, under \\u003ca target=\\&quot;_blank\\&quot; href=\\&quot;http://www.openstreetmap.org/copyright\\&quot;\\u003eODbL\\u003c/a\\u003e.&quot;, &quot;detectRetina&quot;: false, &quot;maxNativeZoom&quot;: 18, &quot;maxZoom&quot;: 18, &quot;minZoom&quot;: 0, &quot;noWrap&quot;: false, &quot;opacity&quot;: 1, &quot;subdomains&quot;: &quot;abc&quot;, &quot;tms&quot;: false}\n",
       "            );\n",
       "        \n",
       "    \n",
       "                tile_layer_67fe65dc4c4ab9ed6defa884018f7696.addTo(map_cfd36429a0e3b43f4e06f08c2c10e561);\n",
       "    \n",
       "            var marker_b9ebfe0f0ebef2e53ece02e92c5f76b2 = L.marker(\n",
       "                [40.75396, -73.83361],\n",
       "                {}\n",
       "            ).addTo(map_cfd36429a0e3b43f4e06f08c2c10e561);\n",
       "        \n",
       "    \n",
       "            var icon_ac71637b82924e21234dce7b100234c8 = L.AwesomeMarkers.icon(\n",
       "                {&quot;extraClasses&quot;: &quot;fa-rotate-0&quot;, &quot;icon&quot;: &quot;info-sign&quot;, &quot;iconColor&quot;: &quot;white&quot;, &quot;markerColor&quot;: &quot;darkred&quot;, &quot;prefix&quot;: &quot;glyphicon&quot;}\n",
       "            );\n",
       "            marker_b9ebfe0f0ebef2e53ece02e92c5f76b2.setIcon(icon_ac71637b82924e21234dce7b100234c8);\n",
       "        \n",
       "    \n",
       "        var popup_b0263401019058c2d76849073ea8578f = L.popup({&quot;maxWidth&quot;: &quot;100%&quot;});\n",
       "\n",
       "        \n",
       "            \n",
       "                var html_b36613ad2a736b925b7371b2fb6ca344 = $(`&lt;div id=&quot;html_b36613ad2a736b925b7371b2fb6ca344&quot; style=&quot;width: 100.0%; height: 100.0%;&quot;&gt;neighbourhood_group             Queens room_type              Entire home/apt Name: 33716, dtype: object&lt;/div&gt;`)[0];\n",
       "                popup_b0263401019058c2d76849073ea8578f.setContent(html_b36613ad2a736b925b7371b2fb6ca344);\n",
       "            \n",
       "        \n",
       "\n",
       "        marker_b9ebfe0f0ebef2e53ece02e92c5f76b2.bindPopup(popup_b0263401019058c2d76849073ea8578f)\n",
       "        ;\n",
       "\n",
       "        \n",
       "    \n",
       "    \n",
       "            var marker_1db1ab84c1ccd3117b2c3d66b87bc3c0 = L.marker(\n",
       "                [40.75273, -73.87144],\n",
       "                {}\n",
       "            ).addTo(map_cfd36429a0e3b43f4e06f08c2c10e561);\n",
       "        \n",
       "    \n",
       "            var icon_8ab80dfe68e3e7d4a524803106353bbe = L.AwesomeMarkers.icon(\n",
       "                {&quot;extraClasses&quot;: &quot;fa-rotate-0&quot;, &quot;icon&quot;: &quot;info-sign&quot;, &quot;iconColor&quot;: &quot;white&quot;, &quot;markerColor&quot;: &quot;darkred&quot;, &quot;prefix&quot;: &quot;glyphicon&quot;}\n",
       "            );\n",
       "            marker_1db1ab84c1ccd3117b2c3d66b87bc3c0.setIcon(icon_8ab80dfe68e3e7d4a524803106353bbe);\n",
       "        \n",
       "    \n",
       "        var popup_d8a41f107756d1a842f3f48c54e8c3ec = L.popup({&quot;maxWidth&quot;: &quot;100%&quot;});\n",
       "\n",
       "        \n",
       "            \n",
       "                var html_5008b708531db73d796cf8c5f096f3cf = $(`&lt;div id=&quot;html_5008b708531db73d796cf8c5f096f3cf&quot; style=&quot;width: 100.0%; height: 100.0%;&quot;&gt;neighbourhood_group             Queens room_type              Entire home/apt Name: 10912, dtype: object&lt;/div&gt;`)[0];\n",
       "                popup_d8a41f107756d1a842f3f48c54e8c3ec.setContent(html_5008b708531db73d796cf8c5f096f3cf);\n",
       "            \n",
       "        \n",
       "\n",
       "        marker_1db1ab84c1ccd3117b2c3d66b87bc3c0.bindPopup(popup_d8a41f107756d1a842f3f48c54e8c3ec)\n",
       "        ;\n",
       "\n",
       "        \n",
       "    \n",
       "    \n",
       "            var marker_ecc729607ac70bb952f567dc3941fe15 = L.marker(\n",
       "                [40.6891, -73.95452],\n",
       "                {}\n",
       "            ).addTo(map_cfd36429a0e3b43f4e06f08c2c10e561);\n",
       "        \n",
       "    \n",
       "            var icon_df7615425ffdef47c70f1203ed46adc4 = L.AwesomeMarkers.icon(\n",
       "                {&quot;extraClasses&quot;: &quot;fa-rotate-0&quot;, &quot;icon&quot;: &quot;info-sign&quot;, &quot;iconColor&quot;: &quot;white&quot;, &quot;markerColor&quot;: &quot;darkgreen&quot;, &quot;prefix&quot;: &quot;glyphicon&quot;}\n",
       "            );\n",
       "            marker_ecc729607ac70bb952f567dc3941fe15.setIcon(icon_df7615425ffdef47c70f1203ed46adc4);\n",
       "        \n",
       "    \n",
       "        var popup_770b7f01fffc2b3dab73984e14fdfff4 = L.popup({&quot;maxWidth&quot;: &quot;100%&quot;});\n",
       "\n",
       "        \n",
       "            \n",
       "                var html_1eaca47f837be882e02b63df4cae8e58 = $(`&lt;div id=&quot;html_1eaca47f837be882e02b63df4cae8e58&quot; style=&quot;width: 100.0%; height: 100.0%;&quot;&gt;neighbourhood_group        Brooklyn room_type              Private room Name: 26989, dtype: object&lt;/div&gt;`)[0];\n",
       "                popup_770b7f01fffc2b3dab73984e14fdfff4.setContent(html_1eaca47f837be882e02b63df4cae8e58);\n",
       "            \n",
       "        \n",
       "\n",
       "        marker_ecc729607ac70bb952f567dc3941fe15.bindPopup(popup_770b7f01fffc2b3dab73984e14fdfff4)\n",
       "        ;\n",
       "\n",
       "        \n",
       "    \n",
       "    \n",
       "            var marker_58e0630c3076f7a665dcab06b9afcbd8 = L.marker(\n",
       "                [40.71254, -73.96183],\n",
       "                {}\n",
       "            ).addTo(map_cfd36429a0e3b43f4e06f08c2c10e561);\n",
       "        \n",
       "    \n",
       "            var icon_e72093c27ccddd40150358ca20dce354 = L.AwesomeMarkers.icon(\n",
       "                {&quot;extraClasses&quot;: &quot;fa-rotate-0&quot;, &quot;icon&quot;: &quot;info-sign&quot;, &quot;iconColor&quot;: &quot;white&quot;, &quot;markerColor&quot;: &quot;darkred&quot;, &quot;prefix&quot;: &quot;glyphicon&quot;}\n",
       "            );\n",
       "            marker_58e0630c3076f7a665dcab06b9afcbd8.setIcon(icon_e72093c27ccddd40150358ca20dce354);\n",
       "        \n",
       "    \n",
       "        var popup_a0fd0116566bd2b7411c3738d1ff6249 = L.popup({&quot;maxWidth&quot;: &quot;100%&quot;});\n",
       "\n",
       "        \n",
       "            \n",
       "                var html_f6d7f17a1267b124e4a4166aa0275a19 = $(`&lt;div id=&quot;html_f6d7f17a1267b124e4a4166aa0275a19&quot; style=&quot;width: 100.0%; height: 100.0%;&quot;&gt;neighbourhood_group           Brooklyn room_type              Entire home/apt Name: 30385, dtype: object&lt;/div&gt;`)[0];\n",
       "                popup_a0fd0116566bd2b7411c3738d1ff6249.setContent(html_f6d7f17a1267b124e4a4166aa0275a19);\n",
       "            \n",
       "        \n",
       "\n",
       "        marker_58e0630c3076f7a665dcab06b9afcbd8.bindPopup(popup_a0fd0116566bd2b7411c3738d1ff6249)\n",
       "        ;\n",
       "\n",
       "        \n",
       "    \n",
       "    \n",
       "            var marker_5198c71f7e66b211e4405103f02b2e39 = L.marker(\n",
       "                [40.71163, -73.95186],\n",
       "                {}\n",
       "            ).addTo(map_cfd36429a0e3b43f4e06f08c2c10e561);\n",
       "        \n",
       "    \n",
       "            var icon_9311105d27f46e849a7e47fe86b107cf = L.AwesomeMarkers.icon(\n",
       "                {&quot;extraClasses&quot;: &quot;fa-rotate-0&quot;, &quot;icon&quot;: &quot;info-sign&quot;, &quot;iconColor&quot;: &quot;white&quot;, &quot;markerColor&quot;: &quot;darkred&quot;, &quot;prefix&quot;: &quot;glyphicon&quot;}\n",
       "            );\n",
       "            marker_5198c71f7e66b211e4405103f02b2e39.setIcon(icon_9311105d27f46e849a7e47fe86b107cf);\n",
       "        \n",
       "    \n",
       "        var popup_ec34f7701fde42975dfa6b3613af410a = L.popup({&quot;maxWidth&quot;: &quot;100%&quot;});\n",
       "\n",
       "        \n",
       "            \n",
       "                var html_c91ea9f490493d168ceb4890886edb39 = $(`&lt;div id=&quot;html_c91ea9f490493d168ceb4890886edb39&quot; style=&quot;width: 100.0%; height: 100.0%;&quot;&gt;neighbourhood_group           Brooklyn room_type              Entire home/apt Name: 9874, dtype: object&lt;/div&gt;`)[0];\n",
       "                popup_ec34f7701fde42975dfa6b3613af410a.setContent(html_c91ea9f490493d168ceb4890886edb39);\n",
       "            \n",
       "        \n",
       "\n",
       "        marker_5198c71f7e66b211e4405103f02b2e39.bindPopup(popup_ec34f7701fde42975dfa6b3613af410a)\n",
       "        ;\n",
       "\n",
       "        \n",
       "    \n",
       "    \n",
       "            var marker_4cc3f04b24b85c0dcb064df26148ccdc = L.marker(\n",
       "                [40.67171, -73.97607],\n",
       "                {}\n",
       "            ).addTo(map_cfd36429a0e3b43f4e06f08c2c10e561);\n",
       "        \n",
       "    \n",
       "            var icon_3c6a06981dc99231df7834985de1ae13 = L.AwesomeMarkers.icon(\n",
       "                {&quot;extraClasses&quot;: &quot;fa-rotate-0&quot;, &quot;icon&quot;: &quot;info-sign&quot;, &quot;iconColor&quot;: &quot;white&quot;, &quot;markerColor&quot;: &quot;darkred&quot;, &quot;prefix&quot;: &quot;glyphicon&quot;}\n",
       "            );\n",
       "            marker_4cc3f04b24b85c0dcb064df26148ccdc.setIcon(icon_3c6a06981dc99231df7834985de1ae13);\n",
       "        \n",
       "    \n",
       "        var popup_3cf3544e0332afbd41678decae38fa1d = L.popup({&quot;maxWidth&quot;: &quot;100%&quot;});\n",
       "\n",
       "        \n",
       "            \n",
       "                var html_27e6f06abb53a8b1be4abdf09aa9b91e = $(`&lt;div id=&quot;html_27e6f06abb53a8b1be4abdf09aa9b91e&quot; style=&quot;width: 100.0%; height: 100.0%;&quot;&gt;neighbourhood_group           Brooklyn room_type              Entire home/apt Name: 18746, dtype: object&lt;/div&gt;`)[0];\n",
       "                popup_3cf3544e0332afbd41678decae38fa1d.setContent(html_27e6f06abb53a8b1be4abdf09aa9b91e);\n",
       "            \n",
       "        \n",
       "\n",
       "        marker_4cc3f04b24b85c0dcb064df26148ccdc.bindPopup(popup_3cf3544e0332afbd41678decae38fa1d)\n",
       "        ;\n",
       "\n",
       "        \n",
       "    \n",
       "    \n",
       "            var marker_62f967c0fab4d1f137aec4bed65f7178 = L.marker(\n",
       "                [40.79589, -73.96811],\n",
       "                {}\n",
       "            ).addTo(map_cfd36429a0e3b43f4e06f08c2c10e561);\n",
       "        \n",
       "    \n",
       "            var icon_6b3a5a216eb3439bf5ea323dd0ab6b53 = L.AwesomeMarkers.icon(\n",
       "                {&quot;extraClasses&quot;: &quot;fa-rotate-0&quot;, &quot;icon&quot;: &quot;info-sign&quot;, &quot;iconColor&quot;: &quot;white&quot;, &quot;markerColor&quot;: &quot;darkred&quot;, &quot;prefix&quot;: &quot;glyphicon&quot;}\n",
       "            );\n",
       "            marker_62f967c0fab4d1f137aec4bed65f7178.setIcon(icon_6b3a5a216eb3439bf5ea323dd0ab6b53);\n",
       "        \n",
       "    \n",
       "        var popup_1a275b9cded1ad4f1525c11f289b67aa = L.popup({&quot;maxWidth&quot;: &quot;100%&quot;});\n",
       "\n",
       "        \n",
       "            \n",
       "                var html_48fa6436a1f124e19fdb520b04101759 = $(`&lt;div id=&quot;html_48fa6436a1f124e19fdb520b04101759&quot; style=&quot;width: 100.0%; height: 100.0%;&quot;&gt;neighbourhood_group          Manhattan room_type              Entire home/apt Name: 14417, dtype: object&lt;/div&gt;`)[0];\n",
       "                popup_1a275b9cded1ad4f1525c11f289b67aa.setContent(html_48fa6436a1f124e19fdb520b04101759);\n",
       "            \n",
       "        \n",
       "\n",
       "        marker_62f967c0fab4d1f137aec4bed65f7178.bindPopup(popup_1a275b9cded1ad4f1525c11f289b67aa)\n",
       "        ;\n",
       "\n",
       "        \n",
       "    \n",
       "    \n",
       "            var marker_f4668018201e2d9f8668f18796dbcefd = L.marker(\n",
       "                [40.72912, -73.98355],\n",
       "                {}\n",
       "            ).addTo(map_cfd36429a0e3b43f4e06f08c2c10e561);\n",
       "        \n",
       "    \n",
       "            var icon_11fb5b207943f12beb381240900dc7f3 = L.AwesomeMarkers.icon(\n",
       "                {&quot;extraClasses&quot;: &quot;fa-rotate-0&quot;, &quot;icon&quot;: &quot;info-sign&quot;, &quot;iconColor&quot;: &quot;white&quot;, &quot;markerColor&quot;: &quot;darkred&quot;, &quot;prefix&quot;: &quot;glyphicon&quot;}\n",
       "            );\n",
       "            marker_f4668018201e2d9f8668f18796dbcefd.setIcon(icon_11fb5b207943f12beb381240900dc7f3);\n",
       "        \n",
       "    \n",
       "        var popup_2c68eadb79de07de5ac42cb164202d80 = L.popup({&quot;maxWidth&quot;: &quot;100%&quot;});\n",
       "\n",
       "        \n",
       "            \n",
       "                var html_5195ce5a0aec9d9ac485f1da06c9471f = $(`&lt;div id=&quot;html_5195ce5a0aec9d9ac485f1da06c9471f&quot; style=&quot;width: 100.0%; height: 100.0%;&quot;&gt;neighbourhood_group          Manhattan room_type              Entire home/apt Name: 1526, dtype: object&lt;/div&gt;`)[0];\n",
       "                popup_2c68eadb79de07de5ac42cb164202d80.setContent(html_5195ce5a0aec9d9ac485f1da06c9471f);\n",
       "            \n",
       "        \n",
       "\n",
       "        marker_f4668018201e2d9f8668f18796dbcefd.bindPopup(popup_2c68eadb79de07de5ac42cb164202d80)\n",
       "        ;\n",
       "\n",
       "        \n",
       "    \n",
       "    \n",
       "            var marker_6de61650fd771f31636d456f33d4f849 = L.marker(\n",
       "                [40.72634, -73.98267],\n",
       "                {}\n",
       "            ).addTo(map_cfd36429a0e3b43f4e06f08c2c10e561);\n",
       "        \n",
       "    \n",
       "            var icon_6ed9bae48a39a1375794dcbecb07df98 = L.AwesomeMarkers.icon(\n",
       "                {&quot;extraClasses&quot;: &quot;fa-rotate-0&quot;, &quot;icon&quot;: &quot;info-sign&quot;, &quot;iconColor&quot;: &quot;white&quot;, &quot;markerColor&quot;: &quot;darkred&quot;, &quot;prefix&quot;: &quot;glyphicon&quot;}\n",
       "            );\n",
       "            marker_6de61650fd771f31636d456f33d4f849.setIcon(icon_6ed9bae48a39a1375794dcbecb07df98);\n",
       "        \n",
       "    \n",
       "        var popup_0ce33407f3569aa9090b9043cbd6c3e5 = L.popup({&quot;maxWidth&quot;: &quot;100%&quot;});\n",
       "\n",
       "        \n",
       "            \n",
       "                var html_40d366e3e400ef6025f0011fbd2c40b6 = $(`&lt;div id=&quot;html_40d366e3e400ef6025f0011fbd2c40b6&quot; style=&quot;width: 100.0%; height: 100.0%;&quot;&gt;neighbourhood_group          Manhattan room_type              Entire home/apt Name: 986, dtype: object&lt;/div&gt;`)[0];\n",
       "                popup_0ce33407f3569aa9090b9043cbd6c3e5.setContent(html_40d366e3e400ef6025f0011fbd2c40b6);\n",
       "            \n",
       "        \n",
       "\n",
       "        marker_6de61650fd771f31636d456f33d4f849.bindPopup(popup_0ce33407f3569aa9090b9043cbd6c3e5)\n",
       "        ;\n",
       "\n",
       "        \n",
       "    \n",
       "    \n",
       "            var marker_0c44f14b168f69eb7d6ea02a9075764e = L.marker(\n",
       "                [40.77762, -73.9516],\n",
       "                {}\n",
       "            ).addTo(map_cfd36429a0e3b43f4e06f08c2c10e561);\n",
       "        \n",
       "    \n",
       "            var icon_6d32c94b29b2ef23d995d0e6d3ce00f4 = L.AwesomeMarkers.icon(\n",
       "                {&quot;extraClasses&quot;: &quot;fa-rotate-0&quot;, &quot;icon&quot;: &quot;info-sign&quot;, &quot;iconColor&quot;: &quot;white&quot;, &quot;markerColor&quot;: &quot;darkred&quot;, &quot;prefix&quot;: &quot;glyphicon&quot;}\n",
       "            );\n",
       "            marker_0c44f14b168f69eb7d6ea02a9075764e.setIcon(icon_6d32c94b29b2ef23d995d0e6d3ce00f4);\n",
       "        \n",
       "    \n",
       "        var popup_5eda5ff4dd5ed56f86981f0ba69ace56 = L.popup({&quot;maxWidth&quot;: &quot;100%&quot;});\n",
       "\n",
       "        \n",
       "            \n",
       "                var html_e97050b8cff912bf0d2085ef514b612c = $(`&lt;div id=&quot;html_e97050b8cff912bf0d2085ef514b612c&quot; style=&quot;width: 100.0%; height: 100.0%;&quot;&gt;neighbourhood_group          Manhattan room_type              Entire home/apt Name: 11586, dtype: object&lt;/div&gt;`)[0];\n",
       "                popup_5eda5ff4dd5ed56f86981f0ba69ace56.setContent(html_e97050b8cff912bf0d2085ef514b612c);\n",
       "            \n",
       "        \n",
       "\n",
       "        marker_0c44f14b168f69eb7d6ea02a9075764e.bindPopup(popup_5eda5ff4dd5ed56f86981f0ba69ace56)\n",
       "        ;\n",
       "\n",
       "        \n",
       "    \n",
       "    \n",
       "            var marker_b15eab403fd1c5190dcb87645e9c984a = L.marker(\n",
       "                [40.67858, -73.98232],\n",
       "                {}\n",
       "            ).addTo(map_cfd36429a0e3b43f4e06f08c2c10e561);\n",
       "        \n",
       "    \n",
       "            var icon_b1dcf96152f34fad8197f974a2c805c4 = L.AwesomeMarkers.icon(\n",
       "                {&quot;extraClasses&quot;: &quot;fa-rotate-0&quot;, &quot;icon&quot;: &quot;info-sign&quot;, &quot;iconColor&quot;: &quot;white&quot;, &quot;markerColor&quot;: &quot;darkred&quot;, &quot;prefix&quot;: &quot;glyphicon&quot;}\n",
       "            );\n",
       "            marker_b15eab403fd1c5190dcb87645e9c984a.setIcon(icon_b1dcf96152f34fad8197f974a2c805c4);\n",
       "        \n",
       "    \n",
       "        var popup_8be75b79b941a094e4c6fdd119b94f7d = L.popup({&quot;maxWidth&quot;: &quot;100%&quot;});\n",
       "\n",
       "        \n",
       "            \n",
       "                var html_bee7656134338b15c85ecba8121ee5b4 = $(`&lt;div id=&quot;html_bee7656134338b15c85ecba8121ee5b4&quot; style=&quot;width: 100.0%; height: 100.0%;&quot;&gt;neighbourhood_group           Brooklyn room_type              Entire home/apt Name: 41932, dtype: object&lt;/div&gt;`)[0];\n",
       "                popup_8be75b79b941a094e4c6fdd119b94f7d.setContent(html_bee7656134338b15c85ecba8121ee5b4);\n",
       "            \n",
       "        \n",
       "\n",
       "        marker_b15eab403fd1c5190dcb87645e9c984a.bindPopup(popup_8be75b79b941a094e4c6fdd119b94f7d)\n",
       "        ;\n",
       "\n",
       "        \n",
       "    \n",
       "    \n",
       "            var marker_084b1e274e93dae5eccf12c182491f80 = L.marker(\n",
       "                [40.69851, -73.96961],\n",
       "                {}\n",
       "            ).addTo(map_cfd36429a0e3b43f4e06f08c2c10e561);\n",
       "        \n",
       "    \n",
       "            var icon_fdb76948009545f1436f455b6bbb37bf = L.AwesomeMarkers.icon(\n",
       "                {&quot;extraClasses&quot;: &quot;fa-rotate-0&quot;, &quot;icon&quot;: &quot;info-sign&quot;, &quot;iconColor&quot;: &quot;white&quot;, &quot;markerColor&quot;: &quot;darkred&quot;, &quot;prefix&quot;: &quot;glyphicon&quot;}\n",
       "            );\n",
       "            marker_084b1e274e93dae5eccf12c182491f80.setIcon(icon_fdb76948009545f1436f455b6bbb37bf);\n",
       "        \n",
       "    \n",
       "        var popup_7d5ae759fca6cb38faf7cc00d3878e5a = L.popup({&quot;maxWidth&quot;: &quot;100%&quot;});\n",
       "\n",
       "        \n",
       "            \n",
       "                var html_20ee3ba2a8c85fce2770fe46ff331f7d = $(`&lt;div id=&quot;html_20ee3ba2a8c85fce2770fe46ff331f7d&quot; style=&quot;width: 100.0%; height: 100.0%;&quot;&gt;neighbourhood_group           Brooklyn room_type              Entire home/apt Name: 22170, dtype: object&lt;/div&gt;`)[0];\n",
       "                popup_7d5ae759fca6cb38faf7cc00d3878e5a.setContent(html_20ee3ba2a8c85fce2770fe46ff331f7d);\n",
       "            \n",
       "        \n",
       "\n",
       "        marker_084b1e274e93dae5eccf12c182491f80.bindPopup(popup_7d5ae759fca6cb38faf7cc00d3878e5a)\n",
       "        ;\n",
       "\n",
       "        \n",
       "    \n",
       "    \n",
       "            var marker_00c03a59d64a93079fc65ef7370bdeca = L.marker(\n",
       "                [40.71038, -73.96299],\n",
       "                {}\n",
       "            ).addTo(map_cfd36429a0e3b43f4e06f08c2c10e561);\n",
       "        \n",
       "    \n",
       "            var icon_bd4276804b25aa47be4a3e34a35529d9 = L.AwesomeMarkers.icon(\n",
       "                {&quot;extraClasses&quot;: &quot;fa-rotate-0&quot;, &quot;icon&quot;: &quot;info-sign&quot;, &quot;iconColor&quot;: &quot;white&quot;, &quot;markerColor&quot;: &quot;darkred&quot;, &quot;prefix&quot;: &quot;glyphicon&quot;}\n",
       "            );\n",
       "            marker_00c03a59d64a93079fc65ef7370bdeca.setIcon(icon_bd4276804b25aa47be4a3e34a35529d9);\n",
       "        \n",
       "    \n",
       "        var popup_0400747b306de107657e9bd39a49eb7c = L.popup({&quot;maxWidth&quot;: &quot;100%&quot;});\n",
       "\n",
       "        \n",
       "            \n",
       "                var html_fb9d5d68521882d6fe7aab1513f82a4d = $(`&lt;div id=&quot;html_fb9d5d68521882d6fe7aab1513f82a4d&quot; style=&quot;width: 100.0%; height: 100.0%;&quot;&gt;neighbourhood_group           Brooklyn room_type              Entire home/apt Name: 2457, dtype: object&lt;/div&gt;`)[0];\n",
       "                popup_0400747b306de107657e9bd39a49eb7c.setContent(html_fb9d5d68521882d6fe7aab1513f82a4d);\n",
       "            \n",
       "        \n",
       "\n",
       "        marker_00c03a59d64a93079fc65ef7370bdeca.bindPopup(popup_0400747b306de107657e9bd39a49eb7c)\n",
       "        ;\n",
       "\n",
       "        \n",
       "    \n",
       "    \n",
       "            var marker_0610066fa0b65eca59bc73c2b3020fb8 = L.marker(\n",
       "                [40.7124, -73.96263],\n",
       "                {}\n",
       "            ).addTo(map_cfd36429a0e3b43f4e06f08c2c10e561);\n",
       "        \n",
       "    \n",
       "            var icon_5d8a77097d7542a191475ef55a11ebdb = L.AwesomeMarkers.icon(\n",
       "                {&quot;extraClasses&quot;: &quot;fa-rotate-0&quot;, &quot;icon&quot;: &quot;info-sign&quot;, &quot;iconColor&quot;: &quot;white&quot;, &quot;markerColor&quot;: &quot;darkred&quot;, &quot;prefix&quot;: &quot;glyphicon&quot;}\n",
       "            );\n",
       "            marker_0610066fa0b65eca59bc73c2b3020fb8.setIcon(icon_5d8a77097d7542a191475ef55a11ebdb);\n",
       "        \n",
       "    \n",
       "        var popup_158b6bc6d29d8e7a0d374c0533a56e92 = L.popup({&quot;maxWidth&quot;: &quot;100%&quot;});\n",
       "\n",
       "        \n",
       "            \n",
       "                var html_d539f943eea56efac8eceab1c662295d = $(`&lt;div id=&quot;html_d539f943eea56efac8eceab1c662295d&quot; style=&quot;width: 100.0%; height: 100.0%;&quot;&gt;neighbourhood_group           Brooklyn room_type              Entire home/apt Name: 22409, dtype: object&lt;/div&gt;`)[0];\n",
       "                popup_158b6bc6d29d8e7a0d374c0533a56e92.setContent(html_d539f943eea56efac8eceab1c662295d);\n",
       "            \n",
       "        \n",
       "\n",
       "        marker_0610066fa0b65eca59bc73c2b3020fb8.bindPopup(popup_158b6bc6d29d8e7a0d374c0533a56e92)\n",
       "        ;\n",
       "\n",
       "        \n",
       "    \n",
       "    \n",
       "            var marker_31429ae1c5f364bdd509046c6dc7cbc2 = L.marker(\n",
       "                [40.76153, -73.80726],\n",
       "                {}\n",
       "            ).addTo(map_cfd36429a0e3b43f4e06f08c2c10e561);\n",
       "        \n",
       "    \n",
       "            var icon_017bee8aae7c01df26bee7f7f14a5800 = L.AwesomeMarkers.icon(\n",
       "                {&quot;extraClasses&quot;: &quot;fa-rotate-0&quot;, &quot;icon&quot;: &quot;info-sign&quot;, &quot;iconColor&quot;: &quot;white&quot;, &quot;markerColor&quot;: &quot;darkgreen&quot;, &quot;prefix&quot;: &quot;glyphicon&quot;}\n",
       "            );\n",
       "            marker_31429ae1c5f364bdd509046c6dc7cbc2.setIcon(icon_017bee8aae7c01df26bee7f7f14a5800);\n",
       "        \n",
       "    \n",
       "        var popup_a175f597d4452c143d84590dab6f4931 = L.popup({&quot;maxWidth&quot;: &quot;100%&quot;});\n",
       "\n",
       "        \n",
       "            \n",
       "                var html_1f0ced07858865c78c111ad82f1f4bc9 = $(`&lt;div id=&quot;html_1f0ced07858865c78c111ad82f1f4bc9&quot; style=&quot;width: 100.0%; height: 100.0%;&quot;&gt;neighbourhood_group          Queens room_type              Private room Name: 45550, dtype: object&lt;/div&gt;`)[0];\n",
       "                popup_a175f597d4452c143d84590dab6f4931.setContent(html_1f0ced07858865c78c111ad82f1f4bc9);\n",
       "            \n",
       "        \n",
       "\n",
       "        marker_31429ae1c5f364bdd509046c6dc7cbc2.bindPopup(popup_a175f597d4452c143d84590dab6f4931)\n",
       "        ;\n",
       "\n",
       "        \n",
       "    \n",
       "    \n",
       "            var marker_6cb3f08a125cc8c4171f59e1684ae65f = L.marker(\n",
       "                [40.70775, -74.01047],\n",
       "                {}\n",
       "            ).addTo(map_cfd36429a0e3b43f4e06f08c2c10e561);\n",
       "        \n",
       "    \n",
       "            var icon_dc19da33343d72b36014085c6713c8ad = L.AwesomeMarkers.icon(\n",
       "                {&quot;extraClasses&quot;: &quot;fa-rotate-0&quot;, &quot;icon&quot;: &quot;info-sign&quot;, &quot;iconColor&quot;: &quot;white&quot;, &quot;markerColor&quot;: &quot;darkred&quot;, &quot;prefix&quot;: &quot;glyphicon&quot;}\n",
       "            );\n",
       "            marker_6cb3f08a125cc8c4171f59e1684ae65f.setIcon(icon_dc19da33343d72b36014085c6713c8ad);\n",
       "        \n",
       "    \n",
       "        var popup_eb8fd40e8f487d2df7a49753362df497 = L.popup({&quot;maxWidth&quot;: &quot;100%&quot;});\n",
       "\n",
       "        \n",
       "            \n",
       "                var html_11f8a8a9c8a7b91c76d5b25b19ed5e8b = $(`&lt;div id=&quot;html_11f8a8a9c8a7b91c76d5b25b19ed5e8b&quot; style=&quot;width: 100.0%; height: 100.0%;&quot;&gt;neighbourhood_group          Manhattan room_type              Entire home/apt Name: 41401, dtype: object&lt;/div&gt;`)[0];\n",
       "                popup_eb8fd40e8f487d2df7a49753362df497.setContent(html_11f8a8a9c8a7b91c76d5b25b19ed5e8b);\n",
       "            \n",
       "        \n",
       "\n",
       "        marker_6cb3f08a125cc8c4171f59e1684ae65f.bindPopup(popup_eb8fd40e8f487d2df7a49753362df497)\n",
       "        ;\n",
       "\n",
       "        \n",
       "    \n",
       "    \n",
       "            var marker_d6ab712178a505205eba5563debbced4 = L.marker(\n",
       "                [40.82722, -73.9431],\n",
       "                {}\n",
       "            ).addTo(map_cfd36429a0e3b43f4e06f08c2c10e561);\n",
       "        \n",
       "    \n",
       "            var icon_0b16e37b4d6378b1ec196e3afeb0e612 = L.AwesomeMarkers.icon(\n",
       "                {&quot;extraClasses&quot;: &quot;fa-rotate-0&quot;, &quot;icon&quot;: &quot;info-sign&quot;, &quot;iconColor&quot;: &quot;white&quot;, &quot;markerColor&quot;: &quot;darkgreen&quot;, &quot;prefix&quot;: &quot;glyphicon&quot;}\n",
       "            );\n",
       "            marker_d6ab712178a505205eba5563debbced4.setIcon(icon_0b16e37b4d6378b1ec196e3afeb0e612);\n",
       "        \n",
       "    \n",
       "        var popup_b6dd84d9fbdfc2618fa642b2ca4eb044 = L.popup({&quot;maxWidth&quot;: &quot;100%&quot;});\n",
       "\n",
       "        \n",
       "            \n",
       "                var html_4b0fee7604fae7f2954235bc160f48c1 = $(`&lt;div id=&quot;html_4b0fee7604fae7f2954235bc160f48c1&quot; style=&quot;width: 100.0%; height: 100.0%;&quot;&gt;neighbourhood_group       Manhattan room_type              Private room Name: 18590, dtype: object&lt;/div&gt;`)[0];\n",
       "                popup_b6dd84d9fbdfc2618fa642b2ca4eb044.setContent(html_4b0fee7604fae7f2954235bc160f48c1);\n",
       "            \n",
       "        \n",
       "\n",
       "        marker_d6ab712178a505205eba5563debbced4.bindPopup(popup_b6dd84d9fbdfc2618fa642b2ca4eb044)\n",
       "        ;\n",
       "\n",
       "        \n",
       "    \n",
       "    \n",
       "            var marker_2b103870a8e40c9c318843aaef8e0161 = L.marker(\n",
       "                [40.73508, -74.00004],\n",
       "                {}\n",
       "            ).addTo(map_cfd36429a0e3b43f4e06f08c2c10e561);\n",
       "        \n",
       "    \n",
       "            var icon_8f7a457d6d2b2e8a00c8750f67a44e31 = L.AwesomeMarkers.icon(\n",
       "                {&quot;extraClasses&quot;: &quot;fa-rotate-0&quot;, &quot;icon&quot;: &quot;info-sign&quot;, &quot;iconColor&quot;: &quot;white&quot;, &quot;markerColor&quot;: &quot;darkred&quot;, &quot;prefix&quot;: &quot;glyphicon&quot;}\n",
       "            );\n",
       "            marker_2b103870a8e40c9c318843aaef8e0161.setIcon(icon_8f7a457d6d2b2e8a00c8750f67a44e31);\n",
       "        \n",
       "    \n",
       "        var popup_006b04748bb1c6aa0028d6d4a53da482 = L.popup({&quot;maxWidth&quot;: &quot;100%&quot;});\n",
       "\n",
       "        \n",
       "            \n",
       "                var html_c4bb96db3514d0bd6fbe9fec67079534 = $(`&lt;div id=&quot;html_c4bb96db3514d0bd6fbe9fec67079534&quot; style=&quot;width: 100.0%; height: 100.0%;&quot;&gt;neighbourhood_group          Manhattan room_type              Entire home/apt Name: 42632, dtype: object&lt;/div&gt;`)[0];\n",
       "                popup_006b04748bb1c6aa0028d6d4a53da482.setContent(html_c4bb96db3514d0bd6fbe9fec67079534);\n",
       "            \n",
       "        \n",
       "\n",
       "        marker_2b103870a8e40c9c318843aaef8e0161.bindPopup(popup_006b04748bb1c6aa0028d6d4a53da482)\n",
       "        ;\n",
       "\n",
       "        \n",
       "    \n",
       "    \n",
       "            var marker_6d39966f48b14a3014dbbe6305146330 = L.marker(\n",
       "                [40.6536, -73.95811],\n",
       "                {}\n",
       "            ).addTo(map_cfd36429a0e3b43f4e06f08c2c10e561);\n",
       "        \n",
       "    \n",
       "            var icon_58791870888dd9bab1ddf3afce2fde55 = L.AwesomeMarkers.icon(\n",
       "                {&quot;extraClasses&quot;: &quot;fa-rotate-0&quot;, &quot;icon&quot;: &quot;info-sign&quot;, &quot;iconColor&quot;: &quot;white&quot;, &quot;markerColor&quot;: &quot;darkgreen&quot;, &quot;prefix&quot;: &quot;glyphicon&quot;}\n",
       "            );\n",
       "            marker_6d39966f48b14a3014dbbe6305146330.setIcon(icon_58791870888dd9bab1ddf3afce2fde55);\n",
       "        \n",
       "    \n",
       "        var popup_d7efcda2ff9de660ef38bf439be52dde = L.popup({&quot;maxWidth&quot;: &quot;100%&quot;});\n",
       "\n",
       "        \n",
       "            \n",
       "                var html_8d3ccbc82d9e2b06adb1b40f7ade25c4 = $(`&lt;div id=&quot;html_8d3ccbc82d9e2b06adb1b40f7ade25c4&quot; style=&quot;width: 100.0%; height: 100.0%;&quot;&gt;neighbourhood_group        Brooklyn room_type              Private room Name: 6464, dtype: object&lt;/div&gt;`)[0];\n",
       "                popup_d7efcda2ff9de660ef38bf439be52dde.setContent(html_8d3ccbc82d9e2b06adb1b40f7ade25c4);\n",
       "            \n",
       "        \n",
       "\n",
       "        marker_6d39966f48b14a3014dbbe6305146330.bindPopup(popup_d7efcda2ff9de660ef38bf439be52dde)\n",
       "        ;\n",
       "\n",
       "        \n",
       "    \n",
       "    \n",
       "            var marker_cab6115610a859a6c7a7dde9d4cf5369 = L.marker(\n",
       "                [40.77078, -73.98344],\n",
       "                {}\n",
       "            ).addTo(map_cfd36429a0e3b43f4e06f08c2c10e561);\n",
       "        \n",
       "    \n",
       "            var icon_d2c31aa58daa0c0128e8f8024819e06f = L.AwesomeMarkers.icon(\n",
       "                {&quot;extraClasses&quot;: &quot;fa-rotate-0&quot;, &quot;icon&quot;: &quot;info-sign&quot;, &quot;iconColor&quot;: &quot;white&quot;, &quot;markerColor&quot;: &quot;darkred&quot;, &quot;prefix&quot;: &quot;glyphicon&quot;}\n",
       "            );\n",
       "            marker_cab6115610a859a6c7a7dde9d4cf5369.setIcon(icon_d2c31aa58daa0c0128e8f8024819e06f);\n",
       "        \n",
       "    \n",
       "        var popup_8c4df8687912baab4ae95a7e977348ba = L.popup({&quot;maxWidth&quot;: &quot;100%&quot;});\n",
       "\n",
       "        \n",
       "            \n",
       "                var html_acb651b44f52af39e4891a164244f392 = $(`&lt;div id=&quot;html_acb651b44f52af39e4891a164244f392&quot; style=&quot;width: 100.0%; height: 100.0%;&quot;&gt;neighbourhood_group          Manhattan room_type              Entire home/apt Name: 35560, dtype: object&lt;/div&gt;`)[0];\n",
       "                popup_8c4df8687912baab4ae95a7e977348ba.setContent(html_acb651b44f52af39e4891a164244f392);\n",
       "            \n",
       "        \n",
       "\n",
       "        marker_cab6115610a859a6c7a7dde9d4cf5369.bindPopup(popup_8c4df8687912baab4ae95a7e977348ba)\n",
       "        ;\n",
       "\n",
       "        \n",
       "    \n",
       "&lt;/script&gt;\n",
       "&lt;/html&gt;\" style=\"position:absolute;width:100%;height:100%;left:0;top:0;border:none !important;\" allowfullscreen webkitallowfullscreen mozallowfullscreen></iframe></div></div>"
      ],
      "text/plain": [
       "<folium.folium.Map at 0x2122e845c00>"
      ]
     },
     "execution_count": 18,
     "metadata": {},
     "output_type": "execute_result"
    }
   ],
   "source": [
    "# importando as bibliotecas\n",
    "import pandas as pd\n",
    "import folium as fl\n",
    "\n",
    "# lendo a base de dados\n",
    "data = pd.read_csv('AB_NYC_2019.csv')\n",
    "\n",
    "# criando os segmentos\n",
    "colunas = ['neighbourhood_group','room_type','latitude','longitude']\n",
    "\n",
    "# criando os segmentos, com o sample(20) que no caso está trazendo 20 linhas aleatórias\n",
    "data_plot = data.loc[:, colunas].sample(20)\n",
    "\n",
    "# criando uma nova coluna chamado color, e atribuindo 'NA' a todas as linhas\n",
    "data_plot.loc[:, 'color'] = 'NA'\n",
    "\n",
    "# selecionando as linhas do segmento\n",
    "linhas_private_room = data_plot.loc[:, 'room_type'] == 'Private room'\n",
    "linhas_entire_apt\t = data_plot.loc[:, 'room_type'] == 'Entire home/apt'\n",
    "linhas_shared_room = data_plot.loc[:, 'room_type'] == 'Shared room'\n",
    "\n",
    "# colocando as cores para cada segmento\n",
    "data_plot.loc[linhas_private_room, 'color'] = 'darkgreen'\n",
    "data_plot.loc[linhas_entire_apt, 'color'] = 'darkred'\n",
    "data_plot.loc[linhas_shared_room, 'color'] = 'purple'\n",
    "\n",
    "# criando a área do mapa\n",
    "map = fl.Map(zoom_start=10)\n",
    "\n",
    "# adicionando os pinos no mapa\n",
    "for index, location_info in data_plot.iterrows():\n",
    "  fl.Marker(\n",
    "      [location_info['latitude'], location_info['longitude']],\n",
    "      popup=location_info[['neighbourhood_group','room_type']], # mostrar as informações\n",
    "      icon=fl.Icon(color=location_info['color']) # pintar as cores das posições\n",
    "      ).add_to(map)\n",
    "\n",
    "# Exibindo o mapa\n",
    "map"
   ]
  }
 ],
 "metadata": {
  "colab": {
   "provenance": []
  },
  "kernelspec": {
   "display_name": "Python 3 (ipykernel)",
   "language": "python",
   "name": "python3"
  },
  "language_info": {
   "codemirror_mode": {
    "name": "ipython",
    "version": 3
   },
   "file_extension": ".py",
   "mimetype": "text/x-python",
   "name": "python",
   "nbconvert_exporter": "python",
   "pygments_lexer": "ipython3",
   "version": "3.10.5"
  }
 },
 "nbformat": 4,
 "nbformat_minor": 4
}
