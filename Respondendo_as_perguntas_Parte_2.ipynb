{
  "cells": [
    {
      "cell_type": "markdown",
      "metadata": {
        "id": "gRQgfJZ9HIua"
      },
      "source": [
        "# Parte II - Respondendo as perguntas de negócio\n"
      ]
    },
    {
      "cell_type": "markdown",
      "metadata": {
        "id": "_bllQ8srHNfg"
      },
      "source": [
        "### 1. Qual é o valor do aluguel (diária) mais caro de cada região da base de dados da cidade de Nova York?\n"
      ]
    },
    {
      "cell_type": "code",
      "execution_count": null,
      "metadata": {
        "id": "Xs6TE9hUHD_S"
      },
      "outputs": [],
      "source": [
        "# importando as bibliotecas\n",
        "import pandas as pd\n",
        "import plotly.express as px\n",
        "\n",
        "# lendo a base de dados\n",
        "data = pd.read_csv('/content/AB_NYC_2019.csv')\n",
        "\n",
        "# selecionando linhas e colunas, e selecionando a coluna que irá agrupar\n",
        "colunas = ['price','neighbourhood_group']\n",
        "colunas_groupby = ['neighbourhood_group']\n",
        "\n",
        "# criando os segmentos\n",
        "data_plot = data.loc[:, colunas].groupby(colunas_groupby).max().reset_index()\n",
        "\n",
        "# desenhando o gráfico\n",
        "px.bar(data_plot, x='neighbourhood_group', y='price')"
      ]
    },
    {
      "cell_type": "markdown",
      "metadata": {
        "id": "tPC7G7y6IoTK"
      },
      "source": [
        "### 2. Conseguimos saber onde estão localizados os imóveis com o valor do aluguel mais caro, na cidade de Nova York?\n"
      ]
    },
    {
      "cell_type": "code",
      "execution_count": null,
      "metadata": {
        "id": "86sJg9KdItuJ"
      },
      "outputs": [],
      "source": [
        "# importando as bibliotecas\n",
        "import pandas as pd\n",
        "import folium\n",
        "\n",
        "# lendo a base de dados\n",
        "data = pd.read_csv('/content/AB_NYC_2019.csv')\n",
        "\n",
        "# selecionando linhas e colunas, e selecionando a coluna que irá agrupar\n",
        "colunas = ['price','neighbourhood_group','latitude','longitude']\n",
        "colunas_groupby = ['neighbourhood_group']\n",
        "\n",
        "# criando os segmentos\n",
        "data_plot = data.loc[:, colunas].groupby(colunas_groupby).max().reset_index()\n",
        "\n",
        "# criando a área do mapa\n",
        "f = folium.Figure(width=1024, height=768)\n",
        "\n",
        "# desenhando o mapa\n",
        "map = folium.Map(\n",
        "  location=[data_plot['latitude'].mean(),\n",
        "  data_plot['longitude'].mean()],\n",
        "  zoom_start=10,\n",
        "  control_scale=True\n",
        ")\n",
        "\n",
        "# adicionando os pinos no mapa\n",
        "for index, location_info in data_plot.iterrows():\n",
        "  folium.Marker( [location_info['latitude'],\n",
        "                location_info['longitude']],\n",
        "                popup=location_info['neighbourhood_group'] ).add_to( map )\n",
        "# exibindo o mapa\n",
        "map\n"
      ]
    },
    {
      "cell_type": "markdown",
      "metadata": {
        "id": "UBkGLGHbIxty"
      },
      "source": [
        "### 3. Conseguimos saber onde estão localizados os imóveis pelo seu tipo?"
      ]
    },
    {
      "cell_type": "code",
      "execution_count": null,
      "metadata": {
        "id": "JkBfT5qaIzJz"
      },
      "outputs": [],
      "source": [
        "# importando as bibliotecas\n",
        "import pandas as pd\n",
        "import folium as fl\n",
        "\n",
        "# lendo a base de dados\n",
        "data = pd.read_csv('/content/AB_NYC_2019.csv')\n",
        "\n",
        "# criando os segmentos\n",
        "colunas = ['neighbourhood_group','room_type','latitude','longitude']\n",
        "\n",
        "# criando os segmentos, com o sample(20) que no caso está trazendo 20 linhas aleatórias\n",
        "data_plot = data.loc[:, colunas].sample(20)\n",
        "\n",
        "# criando uma nova coluna chamado color, e atribuindo 'NA' a todas as linhas\n",
        "data_plot.loc[:, 'color'] = 'NA'\n",
        "\n",
        "# selecionando as linhas do segmento\n",
        "linhas_private_room = data_plot.loc[:, 'room_type'] == 'Private room'\n",
        "linhas_entire_apt\t = data_plot.loc[:, 'room_type'] == 'Entire home/apt'\n",
        "linhas_shared_room = data_plot.loc[:, 'room_type'] == 'Shared room'\n",
        "\n",
        "# colocando as cores para cada segmento\n",
        "data_plot.loc[linhas_private_room, 'color'] = 'darkgreen'\n",
        "data_plot.loc[linhas_entire_apt, 'color'] = 'darkred'\n",
        "data_plot.loc[linhas_shared_room, 'color'] = 'purple'\n",
        "\n",
        "# criando a área do mapa\n",
        "map = fl.Map(zoom_start=10)\n",
        "\n",
        "# adicionando os pinos no mapa\n",
        "for index, location_info in data_plot.iterrows():\n",
        "  fl.Marker(\n",
        "      [location_info['latitude'], location_info['longitude']],\n",
        "      popup=location_info[['neighbourhood_group','room_type']], # mostrar as informações\n",
        "      icon=fl.Icon(color=location_info['color']) # pintar as cores das posições\n",
        "      ).add_to(map)\n",
        "\n",
        "# Exibindo o mapa\n",
        "map"
      ]
    }
  ],
  "metadata": {
    "colab": {
      "provenance": []
    },
    "kernelspec": {
      "display_name": "Python 3 (ipykernel)",
      "language": "python",
      "name": "python3"
    },
    "language_info": {
      "codemirror_mode": {
        "name": "ipython",
        "version": 3
      },
      "file_extension": ".py",
      "mimetype": "text/x-python",
      "name": "python",
      "nbconvert_exporter": "python",
      "pygments_lexer": "ipython3",
      "version": "3.10.5"
    }
  },
  "nbformat": 4,
  "nbformat_minor": 0
}